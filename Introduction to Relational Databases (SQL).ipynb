{
 "cells": [
  {
   "cell_type": "markdown",
   "metadata": {},
   "source": [
    "## Databases: Introduction"
   ]
  },
  {
   "cell_type": "markdown",
   "metadata": {},
   "source": [
    "A Database is an organized colletion of data because of its setup makes easier to insert or found data from it."
   ]
  },
  {
   "cell_type": "markdown",
   "metadata": {},
   "source": [
    "Exist diferent kinds of databases depending on characteristics of data that we want to store and how we want to store it.   \n",
    "We can divide the different databases into:  \n",
    "\n",
    "* **SQL / Relational databases:** relational database as a collection of tables, each with a schema that represents the fixed attributes and data types that the items in the table will have. Provide functionalities for reading, creating, updating, and deleting data, typically by means of Structured Query Language (SQL) statements.\n",
    "  \n",
    "    \n",
    "* **NoSQL / Non-relational databases:** emerged as a popular alternative to relational databases as web applications became increasingly complex. NoSQL/Non-relational databases can take a variety of forms.NoSQL databases can be schema agnostic, allowing unstructured and semi-structured data to be stored and manipulated.   \n",
    "  \n",
    "    * **Key-Value Stores (ex.Redis):** extremely simple database management systems that store only key-value pairs and provide basic functionality for retrieving the value associated with a known key.\n",
    "       \n",
    "    * **Wide Column Stores (ex.Cassandra):** schema-agnostic systems that enable users to store data in column families or tables, a single row of which can be thought of as a record. It's a multi-dimensional key-value store.\n",
    "    \n",
    "    * **Document Stores (ex.MongoDB):** schema-free systems that store data in the form of JSON documents. Document stores are similar to key-value or wide column stores, but the document name is the key and the contents of the document, whatever they are, are the value.\n",
    "      \n",
    "    * **Graph Databases (ex.Neo4J):** represent data as a network of related nodes or objects in order to facilitate data visualizations and graph analytics.\n",
    "      \n",
    "    * **Search Engines (ex.Elasticsearch):** store data using schema-free JSON documents.They are similar to document stores, but with a greater emphasis on making your unstructured or semi-structured."
   ]
  },
  {
   "cell_type": "markdown",
   "metadata": {},
   "source": [
    "<html>\n",
    "  <img src=\"https://www.alooma.com/img/cms/moderndb-listforblog.png\" height=30>\n",
    "</html>"
   ]
  },
  {
   "cell_type": "markdown",
   "metadata": {},
   "source": [
    "In fact, the popularity of non-relational databases is on the rise but relational databases are still the most populars (you can take a took to DBengines ranking: https://db-engines.com/en/ranking)"
   ]
  },
  {
   "cell_type": "markdown",
   "metadata": {},
   "source": [
    "## Relational Databases Characteristics"
   ]
  },
  {
   "cell_type": "markdown",
   "metadata": {},
   "source": [
    "Relational databases use a collection of tables to store data (also called relations). \n",
    "  \n",
    "**Table:** is a collection of rows (also called tuples or records)  \n",
    "* Each row in a table contais a set of columns (also called fields or attributes).  \n",
    "* Each column has a defined type (string, integer, floating-point, date, etc.)\n",
    "\n",
    "**Schema:** database defined structure \n",
    "* Table name \n",
    "* Names and types of each colum\n",
    "* Additional information"
   ]
  },
  {
   "cell_type": "markdown",
   "metadata": {},
   "source": [
    "<html>\n",
    "    <img src=\"https://www.sqa.org.uk/e-learning/SQLIntro01CD/images/pic003.jpg\">\n",
    "</html>"
   ]
  },
  {
   "cell_type": "markdown",
   "metadata": {},
   "source": [
    "<html>\n",
    "    <img src=\"https://d3n817fwly711g.cloudfront.net/uploads/2012/06/relational-database-model1.png\" height=10>\n",
    "</html>"
   ]
  },
  {
   "cell_type": "markdown",
   "metadata": {},
   "source": [
    "## SQL Language"
   ]
  },
  {
   "cell_type": "markdown",
   "metadata": {},
   "source": [
    "Structure Query Language(SQL) is an standard database query language used for storing and managing data in Relational Databases. "
   ]
  },
  {
   "cell_type": "markdown",
   "metadata": {},
   "source": [
    "SQL was designed to be an english-readable languange used to enter commands on a console and gettings results displayed back to the screen.\n",
    "\n",
    "Nowadays, SQL is mostly used by programmers who use SQL inside their language to build applications that access data in a database.\n",
    "\n",
    "SQL operations can de divided in 3 important groups of statements:\n",
    "\n",
    "* **Data Definition Language (DDL):** define database structure    \n",
    "  \n",
    "    * **CREATE:** create a database, define tables, etc.\n",
    "    * **ALTER:** modify a database structure defined.\n",
    "    * **DROP:** delete of modify object in the database structure.   \n",
    "    \n",
    "    \n",
    "* **Data Manipulation Language (DML):** introduce data, select and modify data located in the database\n",
    "\n",
    "    * **SELECT:** queries about data from database\n",
    "    * **INSERT:** insert values into database\n",
    "    * **UPDATE:** modify values or registers\n",
    "    * **DELETE:** delete rows in a table\n",
    "    \n",
    "      \n",
    "* **Data Control Language (DCL):** determine acces to objects defined by database adminitrator  \n",
    "\n",
    "    * **GRANT:** give acces permissions\n",
    "    * **REVOKE:** delete acces permissions"
   ]
  },
  {
   "cell_type": "markdown",
   "metadata": {},
   "source": [
    "To insert SQL command directly to Jupyter notebook an etra library is needed: **pip install ipython-sql**"
   ]
  },
  {
   "cell_type": "markdown",
   "metadata": {},
   "source": [
    "We are not going to go deep into SQL, just some example to know how it looks like: "
   ]
  },
  {
   "cell_type": "code",
   "execution_count": null,
   "metadata": {},
   "outputs": [],
   "source": [
    "%env DATABASE_URL=sqlite:///users.db"
   ]
  },
  {
   "cell_type": "code",
   "execution_count": null,
   "metadata": {},
   "outputs": [],
   "source": [
    "%load_ext sql"
   ]
  },
  {
   "cell_type": "markdown",
   "metadata": {},
   "source": [
    "### Create Table"
   ]
  },
  {
   "cell_type": "code",
   "execution_count": null,
   "metadata": {},
   "outputs": [],
   "source": [
    "%%sql\n",
    "CREATE TABLE Users(\n",
    "    UserID int NOT NULL,\n",
    "    LastName varchar(255),\n",
    "    FirstName varchar(255),\n",
    "    City varchar(255), \n",
    "    PRIMARY KEY (UserID)\n",
    ");"
   ]
  },
  {
   "cell_type": "markdown",
   "metadata": {},
   "source": [
    "### Insert Data"
   ]
  },
  {
   "cell_type": "code",
   "execution_count": null,
   "metadata": {},
   "outputs": [],
   "source": [
    "%%sql\n",
    "INSERT INTO Users (UserID,LastName, FirstName, City)\n",
    "VALUES (1,'Pujol','Nuria','Barcelona');"
   ]
  },
  {
   "cell_type": "markdown",
   "metadata": {},
   "source": [
    "### Select Data"
   ]
  },
  {
   "cell_type": "code",
   "execution_count": null,
   "metadata": {},
   "outputs": [],
   "source": [
    "%%sql\n",
    "SELECT * FROM Users;"
   ]
  },
  {
   "cell_type": "code",
   "execution_count": null,
   "metadata": {},
   "outputs": [],
   "source": [
    "%%sql\n",
    "SELECT City FROM Users;"
   ]
  },
  {
   "cell_type": "markdown",
   "metadata": {},
   "source": [
    "If you want to learn a lite bit more about SQL I suggest you these tutorials:  \n",
    "* Intro to SQL for Data Science : https://www.datacamp.com/courses/intro-to-sql-for-data-science\n",
    "* Learn SQL : https://www.codecademy.com/learn/learn-sql"
   ]
  },
  {
   "cell_type": "markdown",
   "metadata": {},
   "source": [
    "### Inserting SQL to Python"
   ]
  },
  {
   "cell_type": "code",
   "execution_count": null,
   "metadata": {},
   "outputs": [],
   "source": [
    "import sqlite3\n",
    "conn = sqlite3.connect('example.db')\n",
    " \n",
    "c = conn.cursor()\n",
    "c.execute('''\n",
    "          CREATE TABLE person\n",
    "          (id INTEGER PRIMARY KEY ASC, name varchar(250) NOT NULL)\n",
    "          ''')\n",
    "c.execute('''\n",
    "          CREATE TABLE address\n",
    "          (id INTEGER PRIMARY KEY ASC, street_name varchar(250), street_number varchar(250),\n",
    "           post_code varchar(250) NOT NULL, person_id INTEGER NOT NULL,\n",
    "           FOREIGN KEY(person_id) REFERENCES person(id))\n",
    "          ''')\n",
    " \n",
    "c.execute('''\n",
    "          INSERT INTO person VALUES(1, 'pythoncentral')\n",
    "          ''')\n",
    "c.execute('''\n",
    "          INSERT INTO address VALUES(1, 'python road', '1', '00000', 1)\n",
    "          ''')\n",
    " \n",
    "conn.commit()\n",
    "conn.close()"
   ]
  },
  {
   "cell_type": "code",
   "execution_count": null,
   "metadata": {},
   "outputs": [],
   "source": [
    "conn = sqlite3.connect('example.db')\n",
    "c = conn.cursor()\n",
    "\n",
    "c.execute('SELECT * FROM person')\n",
    "print(c.fetchall())\n",
    "c.execute('SELECT * FROM address')\n",
    "print(c.fetchall())\n",
    "conn.close()"
   ]
  },
  {
   "cell_type": "markdown",
   "metadata": {},
   "source": [
    "Exist differences between SQL language used by different Relational Databases. For this reason we say that SQL have differents dialects."
   ]
  },
  {
   "cell_type": "markdown",
   "metadata": {},
   "source": [
    "## SQLAlchemy (Python Library)"
   ]
  },
  {
   "cell_type": "markdown",
   "metadata": {},
   "source": [
    "SQLAlchemy provides a Pythonic way of interacting with databases avoiding to deal with SQL dialects differences.   \n",
    "It is an open source and cross-platform software released under MIT license.\n",
    "\n",
    "The following are the dialects included:\n",
    "\n",
    "* Firebird\n",
    "* Microsoft SQL Server\n",
    "* **MySQL**\n",
    "* Oracle\n",
    "* **PostgreSQL**\n",
    "* SQLite\n",
    "* Sybase"
   ]
  },
  {
   "cell_type": "markdown",
   "metadata": {},
   "source": [
    "We can also use SQL queries using SQLAlchemy:"
   ]
  },
  {
   "cell_type": "code",
   "execution_count": null,
   "metadata": {},
   "outputs": [],
   "source": [
    "from sqlalchemy import create_engine\n",
    "\n",
    "engine = create_engine('sqlite:///users.db')\n",
    "\n",
    "with engine.connect() as con:\n",
    "\n",
    "    rs = con.execute('SELECT * FROM Users')\n",
    "\n",
    "    for row in rs:\n",
    "        print(row)"
   ]
  },
  {
   "cell_type": "markdown",
   "metadata": {},
   "source": [
    "The most powerfull part of this library is **SQLAlchemy-ORM**\n",
    "\n",
    "ORM (Object Relatinal Mapping) makes possible to convert data between incompatible type systems in object-oriented programming languages (Python, for example). In an ORM system, each class maps to a table in the database."
   ]
  },
  {
   "cell_type": "markdown",
   "metadata": {},
   "source": [
    "Can be installed by: **pip install sqlalchemy**"
   ]
  },
  {
   "cell_type": "markdown",
   "metadata": {},
   "source": [
    "### 1. Schema Definition:"
   ]
  },
  {
   "cell_type": "markdown",
   "metadata": {},
   "source": [
    "Import al libraries:"
   ]
  },
  {
   "cell_type": "code",
   "execution_count": null,
   "metadata": {},
   "outputs": [],
   "source": [
    "from sqlalchemy import create_engine\n",
    "from sqlalchemy.ext.declarative import declarative_base\n",
    "from sqlalchemy import Column, Integer, String"
   ]
  },
  {
   "cell_type": "markdown",
   "metadata": {},
   "source": [
    "We will use a local SQLite database \"engine\". We create it that way:"
   ]
  },
  {
   "cell_type": "code",
   "execution_count": null,
   "metadata": {},
   "outputs": [],
   "source": [
    "engine = create_engine('sqlite:///films_example1.db')"
   ]
  },
  {
   "cell_type": "markdown",
   "metadata": {},
   "source": [
    "Define tables (name, columns and types) into a class:"
   ]
  },
  {
   "cell_type": "code",
   "execution_count": null,
   "metadata": {},
   "outputs": [],
   "source": [
    "Base = declarative_base()\n",
    "\n",
    "class Film(Base):\n",
    "    \n",
    "    __tablename__ = 'films'\n",
    "    \n",
    "    id = Column(Integer, primary_key=True)\n",
    "    title = Column(String)\n",
    "    year = Column(Integer)\n",
    "    director = Column(String)\n",
    "    \n",
    "    def __repr__(self):\n",
    "        return \"<Film(title='%s', year='%d', director='%s')>\" % (self.title, self.year, self.director)"
   ]
  },
  {
   "cell_type": "markdown",
   "metadata": {},
   "source": [
    "Create all tables in the database: This is equivalent to \"Create Table\" statement in SQL"
   ]
  },
  {
   "cell_type": "code",
   "execution_count": null,
   "metadata": {},
   "outputs": [],
   "source": [
    "Base.metadata.create_all(engine)"
   ]
  },
  {
   "cell_type": "markdown",
   "metadata": {},
   "source": [
    "This step is equivalent to \"Create Table\" statement in SQL.  \n",
    "\n",
    "**At this point we only have an \"empty divided box\".**"
   ]
  },
  {
   "cell_type": "markdown",
   "metadata": {},
   "source": [
    "### 2. Adding Data to DB"
   ]
  },
  {
   "cell_type": "markdown",
   "metadata": {},
   "source": [
    "Import more libraries needed:"
   ]
  },
  {
   "cell_type": "code",
   "execution_count": null,
   "metadata": {},
   "outputs": [],
   "source": [
    "from sqlalchemy.orm import sessionmaker"
   ]
  },
  {
   "cell_type": "markdown",
   "metadata": {},
   "source": [
    "First of all, we have to create a Session related to our database. A Session is needed by ORM to deal between Python classes and the engine that actually communicates with the database:"
   ]
  },
  {
   "cell_type": "code",
   "execution_count": null,
   "metadata": {},
   "outputs": [],
   "source": [
    "Session = sessionmaker(bind=engine)\n",
    "session = Session()"
   ]
  },
  {
   "cell_type": "markdown",
   "metadata": {},
   "source": [
    "Create a new Film object:"
   ]
  },
  {
   "cell_type": "code",
   "execution_count": null,
   "metadata": {},
   "outputs": [],
   "source": [
    "new_film = Film(title='Seven', year=1995, director='David Fincher')"
   ]
  },
  {
   "cell_type": "markdown",
   "metadata": {},
   "source": [
    "Add it to database (to session, in fact):"
   ]
  },
  {
   "cell_type": "code",
   "execution_count": null,
   "metadata": {},
   "outputs": [],
   "source": [
    "session.add(new_film)\n",
    "session.commit()"
   ]
  },
  {
   "cell_type": "markdown",
   "metadata": {},
   "source": [
    "We are going to check if this film is really in the database: "
   ]
  },
  {
   "cell_type": "code",
   "execution_count": null,
   "metadata": {},
   "outputs": [],
   "source": [
    "session.query(Film).all()"
   ]
  },
  {
   "cell_type": "markdown",
   "metadata": {},
   "source": [
    "But what happen if a try to do add it again?"
   ]
  },
  {
   "cell_type": "code",
   "execution_count": null,
   "metadata": {},
   "outputs": [],
   "source": [
    "new_film2 = Film(title='Seven', year=1995, director='David Fincher')\n",
    "session.add(new_film2)\n",
    "session.commit()"
   ]
  },
  {
   "cell_type": "code",
   "execution_count": null,
   "metadata": {},
   "outputs": [],
   "source": [
    "session.query(Film).all()"
   ]
  },
  {
   "cell_type": "markdown",
   "metadata": {},
   "source": [
    "### 2.1 Diferent ways to avoid duplicates:"
   ]
  },
  {
   "cell_type": "markdown",
   "metadata": {},
   "source": [
    "#### 2.1.1 Using significant primary keys"
   ]
  },
  {
   "cell_type": "code",
   "execution_count": null,
   "metadata": {},
   "outputs": [],
   "source": [
    "Base = declarative_base()\n",
    "\n",
    "class FilmDIBA(Base):\n",
    "    \n",
    "    __tablename__ = 'filmsDIBA'\n",
    "    \n",
    "    code = Column(String, primary_key=True)#<==== unique code used in Libraries\n",
    "    title = Column(String)\n",
    "    year = Column(Integer)\n",
    "    director = Column(String)\n",
    "    \n",
    "    def __repr__(self):\n",
    "        return \"<FilmDIBA(code= '%s',title='%s', year='%d', director='%s')>\" % (self.code, self.title, self.year, self.director)\n",
    "\n",
    "Base.metadata.create_all(engine)"
   ]
  },
  {
   "cell_type": "code",
   "execution_count": null,
   "metadata": {},
   "outputs": [],
   "source": [
    "new_film = FilmDIBA(code = 'DVD Sev',title='Seven', year=1995, director='David Fincher')\n",
    "session.add(new_film)\n",
    "session.commit()"
   ]
  },
  {
   "cell_type": "markdown",
   "metadata": {},
   "source": [
    "We get an error if we try to do it twice: "
   ]
  },
  {
   "cell_type": "code",
   "execution_count": null,
   "metadata": {},
   "outputs": [],
   "source": [
    "new_film2 = FilmDIBA(code = 'DVD Sev',title='Seven', year=1995, director='David Fincher')\n",
    "session.add(new_film2)\n",
    "session.commit()"
   ]
  },
  {
   "cell_type": "markdown",
   "metadata": {},
   "source": [
    "We have to check errors, detect it and rollback in database modification before to commit. We will see more usage examples later.  "
   ]
  },
  {
   "cell_type": "code",
   "execution_count": null,
   "metadata": {},
   "outputs": [],
   "source": [
    "session.rollback()"
   ]
  },
  {
   "cell_type": "markdown",
   "metadata": {},
   "source": [
    "#### 2.1.2 Defining some parameters as \"unique\""
   ]
  },
  {
   "cell_type": "code",
   "execution_count": null,
   "metadata": {},
   "outputs": [],
   "source": [
    "class FilmUnique(Base):\n",
    "    \n",
    "    __tablename__ = 'filmsUnique'\n",
    "    \n",
    "    id = Column(Integer, primary_key=True)\n",
    "    title = Column(String, unique = True)\n",
    "    year = Column(Integer)\n",
    "    director = Column(String(30))\n",
    "    \n",
    "    def __repr__(self):\n",
    "        return \"<FilmUnique(title='%s', year='%d', director='%s')>\" % (self.title, self.year, self.director)"
   ]
  },
  {
   "cell_type": "code",
   "execution_count": null,
   "metadata": {},
   "outputs": [],
   "source": [
    "Base.metadata.create_all(engine)"
   ]
  },
  {
   "cell_type": "code",
   "execution_count": null,
   "metadata": {},
   "outputs": [],
   "source": [
    "new_film = FilmUnique(title='Seven', year=1995, director='David Fincher')\n",
    "session.add(new_film)\n",
    "session.commit()"
   ]
  },
  {
   "cell_type": "code",
   "execution_count": null,
   "metadata": {},
   "outputs": [],
   "source": [
    "new_film2 = FilmUnique(title='Seven', year=1995, director='David Fincher')\n",
    "session.add(new_film2)\n",
    "session.commit()"
   ]
  },
  {
   "cell_type": "markdown",
   "metadata": {},
   "source": [
    "But what happen if Seven director try to make a remake of its film?"
   ]
  },
  {
   "cell_type": "code",
   "execution_count": null,
   "metadata": {},
   "outputs": [],
   "source": [
    "new_film3 = FilmUnique(title='Seven', year=2007, director='David Fincher')\n",
    "session.add(new_film3)\n",
    "session.commit()"
   ]
  },
  {
   "cell_type": "markdown",
   "metadata": {},
   "source": [
    "We get the same error!!!"
   ]
  },
  {
   "cell_type": "code",
   "execution_count": null,
   "metadata": {},
   "outputs": [],
   "source": [
    "session.rollback()"
   ]
  },
  {
   "cell_type": "markdown",
   "metadata": {},
   "source": [
    "#### 2.1.3 Defining our rules"
   ]
  },
  {
   "cell_type": "code",
   "execution_count": null,
   "metadata": {},
   "outputs": [],
   "source": [
    "session.query(Film).filter(Film.title == 'Seven').all()"
   ]
  },
  {
   "cell_type": "code",
   "execution_count": null,
   "metadata": {},
   "outputs": [],
   "source": [
    "session.query(Film).filter(Film.title == 'Seven').first()"
   ]
  },
  {
   "cell_type": "code",
   "execution_count": null,
   "metadata": {},
   "outputs": [],
   "source": [
    "session.query(Film).filter(Film.title == 'Seven').count()"
   ]
  },
  {
   "cell_type": "code",
   "execution_count": null,
   "metadata": {},
   "outputs": [],
   "source": [
    "from sqlalchemy import exists\n",
    "\n",
    "session.query(exists().where(Film.title == 'Seven')).scalar()"
   ]
  },
  {
   "cell_type": "code",
   "execution_count": null,
   "metadata": {},
   "outputs": [],
   "source": [
    "session.query(exists().where(Film.title == \"Seven\").where(Film.year == 1995)).scalar()"
   ]
  },
  {
   "cell_type": "code",
   "execution_count": null,
   "metadata": {},
   "outputs": [],
   "source": [
    "if not session.query(exists().where(Film.title == \"Seven\").where(Film.year == 1995)).scalar():\n",
    "    new_film = Film(title='Seven', year=1995, director='David Fincher')\n",
    "    session.add(new_film)\n",
    "    session.commit()\n",
    "\n",
    "else:\n",
    "    print(\"You are trying to add information that already is in your database\")"
   ]
  },
  {
   "cell_type": "code",
   "execution_count": null,
   "metadata": {},
   "outputs": [],
   "source": [
    "session.close()"
   ]
  },
  {
   "cell_type": "markdown",
   "metadata": {},
   "source": [
    "### 2.2 Adding multiple rows"
   ]
  },
  {
   "cell_type": "code",
   "execution_count": null,
   "metadata": {},
   "outputs": [],
   "source": [
    "from sqlalchemy import Column, Integer, String, Float\n",
    "\n",
    "Base = declarative_base()\n",
    "\n",
    "class Student(Base):\n",
    "    \n",
    "    __tablename__ = 'students'\n",
    "    \n",
    "    id = Column(Integer, primary_key=True)\n",
    "    name = Column(String)\n",
    "    surname = Column(String)\n",
    "    age = Column(Integer)\n",
    "    avg_mark = Column(Float)\n",
    "    group_code = Column(String)\n",
    "\n",
    "    \n",
    "    def __repr__(self):\n",
    "        return \"<Student(name= '%s',surname='%s', age='%d', avg_mark='%f',group_code='%s')>\" % (self.name, self.surname, self.age, self.avg_mark,self.group_code)\n",
    "    \n",
    "Base.metadata.create_all(engine)"
   ]
  },
  {
   "cell_type": "code",
   "execution_count": null,
   "metadata": {},
   "outputs": [],
   "source": [
    "objects = [Student(name=\"Maria\",surname=\"Garcia\", age=18, avg_mark=7.89, group_code = '2D2019'), \n",
    "           Student(name=\"Carla\",surname=\"Garcia\", age=23, avg_mark=6.25, group_code = '2D2019'),\n",
    "           Student(name=\"Carlos\",surname=\"Martinez\", age=22, avg_mark=5.80, group_code = '2D2019'),\n",
    "           Student(name=\"Marcos\",surname=\"Perez\", age=19, avg_mark=6.50, group_code = '2D2019'),\n",
    "           Student(name=\"Pablo\",surname=\"Hernandez\", age=21, avg_mark=6.85, group_code = '2D2019'),\n",
    "           Student(name=\"Victor\",surname=\"Sola\", age=18, avg_mark=7.25, group_code = '2D2019'),\n",
    "           Student(name=\"Maria\",surname=\"Perez\", age=18, avg_mark=7.10, group_code = '1D2019'),\n",
    "           Student(name=\"Martina\",surname=\"Galo\", age=19, avg_mark=6.75, group_code = '1D2019'),\n",
    "           Student(name=\"Pedro\",surname=\"Marmol\", age=21, avg_mark=5.80, group_code = '1D2019'),\n",
    "           Student(name=\"Pablo\",surname=\"Mena\", age=20, avg_mark=7.00, group_code = '1D2019'),\n",
    "           Student(name=\"Vanesa\",surname=\"Escalera\", age=19, avg_mark=8.20, group_code = '1D2019')\n",
    "          ]\n",
    "\n",
    "Session = sessionmaker(bind=engine)\n",
    "session = Session()\n",
    "\n",
    "session.add_all(objects)\n",
    "\n",
    "session.commit()"
   ]
  },
  {
   "cell_type": "markdown",
   "metadata": {},
   "source": [
    "### 3.Geting information from database"
   ]
  },
  {
   "cell_type": "code",
   "execution_count": null,
   "metadata": {},
   "outputs": [],
   "source": [
    "session.query(Student.name, Student.surname,Student.avg_mark).all()"
   ]
  },
  {
   "cell_type": "markdown",
   "metadata": {},
   "source": [
    "### 3.1 Order_by (ascending by default)"
   ]
  },
  {
   "cell_type": "code",
   "execution_count": null,
   "metadata": {},
   "outputs": [],
   "source": [
    "session.query(Student).order_by(Student.avg_mark).all()"
   ]
  },
  {
   "cell_type": "code",
   "execution_count": null,
   "metadata": {},
   "outputs": [],
   "source": [
    "session.query(Student).order_by(Student.avg_mark.desc()).all()"
   ]
  },
  {
   "cell_type": "code",
   "execution_count": null,
   "metadata": {},
   "outputs": [],
   "source": [
    "session.query(Student).order_by(Student.avg_mark.desc())[:3]"
   ]
  },
  {
   "cell_type": "markdown",
   "metadata": {},
   "source": [
    "### 3.2 Filter by"
   ]
  },
  {
   "cell_type": "code",
   "execution_count": null,
   "metadata": {},
   "outputs": [],
   "source": [
    "session.query(Student.name,Student.surname,Student.group_code).filter_by(group_code='1D2019').all()"
   ]
  },
  {
   "cell_type": "code",
   "execution_count": null,
   "metadata": {},
   "outputs": [],
   "source": [
    "session.query(Student).filter_by(age=20).all()"
   ]
  },
  {
   "cell_type": "markdown",
   "metadata": {},
   "source": [
    "We also can concatenate filters:"
   ]
  },
  {
   "cell_type": "code",
   "execution_count": null,
   "metadata": {},
   "outputs": [],
   "source": [
    "session.query(Student).filter_by(surname='Garcia').filter_by(group_code='2D2019').all()"
   ]
  },
  {
   "cell_type": "markdown",
   "metadata": {},
   "source": [
    "### 3.3 Filter"
   ]
  },
  {
   "cell_type": "code",
   "execution_count": null,
   "metadata": {},
   "outputs": [],
   "source": [
    "session.query(Student).filter(Student.avg_mark>=7).filter_by(group_code='2D2019').all()"
   ]
  },
  {
   "cell_type": "markdown",
   "metadata": {},
   "source": [
    "### 3.4 Group by + func"
   ]
  },
  {
   "cell_type": "code",
   "execution_count": null,
   "metadata": {},
   "outputs": [],
   "source": [
    "from sqlalchemy import func\n",
    "\n",
    "session.query(Student.group_code,func.avg(Student.avg_mark)).group_by(Student.group_code).all()"
   ]
  },
  {
   "cell_type": "markdown",
   "metadata": {},
   "source": [
    "### PRACTICE TIME!!!"
   ]
  },
  {
   "cell_type": "markdown",
   "metadata": {},
   "source": [
    "### 4. Relations between Tables"
   ]
  },
  {
   "cell_type": "code",
   "execution_count": null,
   "metadata": {},
   "outputs": [],
   "source": [
    "engine = create_engine('sqlite:///films.db')"
   ]
  },
  {
   "cell_type": "markdown",
   "metadata": {},
   "source": [
    "In this case we want to link film with its main actors and we have to configure a ONE-TO-MANY relationship. Look at this code example about the new database schema: "
   ]
  },
  {
   "cell_type": "code",
   "execution_count": null,
   "metadata": {},
   "outputs": [],
   "source": [
    "from sqlalchemy import ForeignKey\n",
    "from sqlalchemy.orm import relationship\n",
    "\n",
    "Base = declarative_base()\n",
    "\n",
    "class Director(Base):\n",
    "        \n",
    "    __tablename__ = 'director'\n",
    "    \n",
    "    id = Column(Integer, primary_key=True)\n",
    "    name = Column(String)\n",
    "    birth_year = Column(Integer)\n",
    "    country = Column(String)\n",
    "    films = relationship(\"Film\")\n",
    "    \n",
    "    def __repr__(self):\n",
    "        return \"<Director(name='%s', birth_year='%d', country='%s')>\" % (self.name, self.birth_year, self.country)\n",
    "\n",
    "class Film(Base):\n",
    "    \n",
    "    __tablename__ = 'film'\n",
    "    \n",
    "    id = Column(Integer, primary_key=True)\n",
    "    title = Column(String)\n",
    "    year = Column(Integer)\n",
    "    director_id = Column(Integer,ForeignKey('director.id'))\n",
    "    \n",
    "    def __repr__(self):\n",
    "        return \"<Film(title='%s', year='%d')>\" % (self.title, self.year)"
   ]
  },
  {
   "cell_type": "code",
   "execution_count": null,
   "metadata": {},
   "outputs": [],
   "source": [
    "Base.metadata.create_all(engine)"
   ]
  },
  {
   "cell_type": "markdown",
   "metadata": {},
   "source": [
    "To get more information about how to configure different relations between tables take a look to official documentation: https://docs.sqlalchemy.org/en/13/orm/relationships.html"
   ]
  },
  {
   "cell_type": "code",
   "execution_count": null,
   "metadata": {},
   "outputs": [],
   "source": [
    "#create directors\n",
    "director1 = Director(name = 'David Fincher', birth_year = 1956, country = 'Israel')\n",
    "director2 = Director(name = 'Steven Spielberg', birth_year = 1946, country = 'USA')\n",
    "\n",
    "#create movies\n",
    "film1 = Film(title='Seven', year=1995) #-> Fincher\n",
    "film2 = Film(title='Jaws', year=1975) #-> Spielberg\n",
    "film3 = Film(title='Jurassic Park', year=1993) #-> Spielberg\n",
    "\n",
    "#create Session\n",
    "Session = sessionmaker(bind=engine)\n",
    "session = Session()\n",
    "\n",
    "#add movies to directors\n",
    "director1.films = [film1]\n",
    "director2.films = [film2]\n",
    "\n",
    "director2.films.append(film3)\n",
    "\n",
    "#persist data\n",
    "session.add(director1)\n",
    "session.add(director2)\n",
    "\n",
    "#commit and close session\n",
    "session.commit()\n",
    "session.close()"
   ]
  },
  {
   "cell_type": "markdown",
   "metadata": {},
   "source": [
    "#### 4.1 Queries examples with JOIN"
   ]
  },
  {
   "cell_type": "code",
   "execution_count": null,
   "metadata": {},
   "outputs": [],
   "source": [
    "Session = sessionmaker(bind=engine)\n",
    "session = Session()"
   ]
  },
  {
   "cell_type": "code",
   "execution_count": null,
   "metadata": {},
   "outputs": [],
   "source": [
    "session.query(Film).filter(Film.year > 1990).all()"
   ]
  },
  {
   "cell_type": "code",
   "execution_count": null,
   "metadata": {},
   "outputs": [],
   "source": [
    "session.query(Film).join(Director).filter(Director.name == 'Steven Spielberg').all()"
   ]
  },
  {
   "cell_type": "markdown",
   "metadata": {},
   "source": [
    "You can get more examples and information about SQLAlchemy at:  \n",
    "* https://www.pythonsheets.com/notes/python-sqlalchemy.html  \n",
    "* https://docs.sqlalchemy.org/en/13/ (or choose your version)"
   ]
  },
  {
   "cell_type": "markdown",
   "metadata": {},
   "source": [
    "# EXERCISE !!!"
   ]
  },
  {
   "cell_type": "markdown",
   "metadata": {},
   "source": [
    "We have a .csv file with this information that we want to store in a database. Design the schema and try to add all information on it. "
   ]
  },
  {
   "cell_type": "code",
   "execution_count": null,
   "metadata": {},
   "outputs": [],
   "source": [
    "import pandas as pd\n",
    "\n",
    "data=pd.read_csv('activities.csv')\n",
    "data.head()"
   ]
  },
  {
   "cell_type": "code",
   "execution_count": null,
   "metadata": {},
   "outputs": [],
   "source": [
    "file = open('activities.csv','r') \n",
    "lines = file.readlines()\n",
    "lines"
   ]
  },
  {
   "cell_type": "code",
   "execution_count": null,
   "metadata": {},
   "outputs": [],
   "source": [
    "for line in lines[1:]:\n",
    "    dni,name,surname,activity,day,room = line.rstrip().split(',')\n",
    "    print(dni,name,surname,activity,day,room)"
   ]
  }
 ],
 "metadata": {
  "kernelspec": {
   "display_name": "Python 3",
   "language": "python",
   "name": "python3"
  },
  "language_info": {
   "codemirror_mode": {
    "name": "ipython",
    "version": 3
   },
   "file_extension": ".py",
   "mimetype": "text/x-python",
   "name": "python",
   "nbconvert_exporter": "python",
   "pygments_lexer": "ipython3",
   "version": "3.6.7"
  }
 },
 "nbformat": 4,
 "nbformat_minor": 2
}
