{
  "nbformat": 4,
  "nbformat_minor": 0,
  "metadata": {
    "kernelspec": {
      "display_name": "Python 3",
      "language": "python",
      "name": "python3"
    },
    "language_info": {
      "codemirror_mode": {
        "name": "ipython",
        "version": 3
      },
      "file_extension": ".py",
      "mimetype": "text/x-python",
      "name": "python",
      "nbconvert_exporter": "python",
      "pygments_lexer": "ipython3",
      "version": "3.6.7"
    },
    "colab": {
      "name": "Introduction to Relational Databases (SQL)_colab.ipynb",
      "provenance": []
    }
  },
  "cells": [
    {
      "cell_type": "markdown",
      "metadata": {
        "id": "WwLXQQk8pR1U",
        "colab_type": "text"
      },
      "source": [
        "## Databases: Introduction"
      ]
    },
    {
      "cell_type": "markdown",
      "metadata": {
        "id": "9ULu7LQHpR1V",
        "colab_type": "text"
      },
      "source": [
        "A Database is an organized colletion of data because of its setup makes easier to insert or found data from it."
      ]
    },
    {
      "cell_type": "markdown",
      "metadata": {
        "id": "nLYXLyqlpR1W",
        "colab_type": "text"
      },
      "source": [
        "Exist diferent kinds of databases depending on characteristics of data that we want to store and how we want to store it.   \n",
        "We can divide the different databases into:  \n",
        "\n",
        "* **SQL / Relational databases:** relational database as a collection of tables, each with a schema that represents the fixed attributes and data types that the items in the table will have. Provide functionalities for reading, creating, updating, and deleting data, typically by means of Structured Query Language (SQL) statements.\n",
        "  \n",
        "    \n",
        "* **NoSQL / Non-relational databases:** emerged as a popular alternative to relational databases as web applications became increasingly complex. NoSQL/Non-relational databases can take a variety of forms.NoSQL databases can be schema agnostic, allowing unstructured and semi-structured data to be stored and manipulated.   \n",
        "  \n",
        "    * **Key-Value Stores (ex.Redis):** extremely simple database management systems that store only key-value pairs and provide basic functionality for retrieving the value associated with a known key.\n",
        "       \n",
        "    * **Wide Column Stores (ex.Cassandra):** schema-agnostic systems that enable users to store data in column families or tables, a single row of which can be thought of as a record. It's a multi-dimensional key-value store.\n",
        "    \n",
        "    * **Document Stores (ex.MongoDB):** schema-free systems that store data in the form of JSON documents. Document stores are similar to key-value or wide column stores, but the document name is the key and the contents of the document, whatever they are, are the value.\n",
        "      \n",
        "    * **Graph Databases (ex.Neo4J):** represent data as a network of related nodes or objects in order to facilitate data visualizations and graph analytics.\n",
        "      \n",
        "    * **Search Engines (ex.Elasticsearch):** store data using schema-free JSON documents.They are similar to document stores, but with a greater emphasis on making your unstructured or semi-structured."
      ]
    },
    {
      "cell_type": "markdown",
      "metadata": {
        "id": "-SJAWTkipR1Y",
        "colab_type": "text"
      },
      "source": [
        "<html>\n",
        "  <img src=\"https://www.alooma.com/img/cms/moderndb-listforblog.png\" height=30>\n",
        "</html>"
      ]
    },
    {
      "cell_type": "markdown",
      "metadata": {
        "id": "xuw2MSWrpR1Z",
        "colab_type": "text"
      },
      "source": [
        "In fact, the popularity of non-relational databases is on the rise but relational databases are still the most populars (you can take a took to DBengines ranking: https://db-engines.com/en/ranking)"
      ]
    },
    {
      "cell_type": "markdown",
      "metadata": {
        "id": "bCvxyXo1pR1a",
        "colab_type": "text"
      },
      "source": [
        "## Relational Databases Characteristics"
      ]
    },
    {
      "cell_type": "markdown",
      "metadata": {
        "id": "wa1TVbQvpR1b",
        "colab_type": "text"
      },
      "source": [
        "Relational databases use a collection of tables to store data (also called relations). \n",
        "  \n",
        "**Table:** is a collection of rows (also called tuples or records)  \n",
        "* Each row in a table contais a set of columns (also called fields or attributes).  \n",
        "* Each column has a defined type (string, integer, floating-point, date, etc.)\n",
        "\n",
        "**Schema:** database defined structure \n",
        "* Table name \n",
        "* Names and types of each colum\n",
        "* Additional information"
      ]
    },
    {
      "cell_type": "markdown",
      "metadata": {
        "id": "GkS0X3nppR1c",
        "colab_type": "text"
      },
      "source": [
        "<html>\n",
        "    <img src=\"https://www.sqa.org.uk/e-learning/SQLIntro01CD/images/pic003.jpg\">\n",
        "</html>"
      ]
    },
    {
      "cell_type": "markdown",
      "metadata": {
        "id": "E-tXZVTUpR1d",
        "colab_type": "text"
      },
      "source": [
        "<html>\n",
        "    <img src=\"https://d3n817fwly711g.cloudfront.net/uploads/2012/06/relational-database-model1.png\" height=10>\n",
        "</html>"
      ]
    },
    {
      "cell_type": "markdown",
      "metadata": {
        "id": "dBmEidvzpR1f",
        "colab_type": "text"
      },
      "source": [
        "## SQL Language"
      ]
    },
    {
      "cell_type": "markdown",
      "metadata": {
        "id": "CVMp9jRqpR1f",
        "colab_type": "text"
      },
      "source": [
        "Structure Query Language(SQL) is an standard database query language used for storing and managing data in Relational Databases. "
      ]
    },
    {
      "cell_type": "markdown",
      "metadata": {
        "id": "clKYCi4hpR1h",
        "colab_type": "text"
      },
      "source": [
        "SQL was designed to be an english-readable languange used to enter commands on a console and gettings results displayed back to the screen.\n",
        "\n",
        "Nowadays, SQL is mostly used by programmers who use SQL inside their language to build applications that access data in a database.\n",
        "\n",
        "SQL operations can de divided in 3 important groups of statements:\n",
        "\n",
        "* **Data Definition Language (DDL):** define database structure    \n",
        "  \n",
        "    * **CREATE:** create a database, define tables, etc.\n",
        "    * **ALTER:** modify a database structure defined.\n",
        "    * **DROP:** delete of modify object in the database structure.   \n",
        "    \n",
        "    \n",
        "* **Data Manipulation Language (DML):** introduce data, select and modify data located in the database\n",
        "\n",
        "    * **SELECT:** queries about data from database\n",
        "    * **INSERT:** insert values into database\n",
        "    * **UPDATE:** modify values or registers\n",
        "    * **DELETE:** delete rows in a table\n",
        "    \n",
        "      \n",
        "* **Data Control Language (DCL):** determine acces to objects defined by database adminitrator  \n",
        "\n",
        "    * **GRANT:** give acces permissions\n",
        "    * **REVOKE:** delete acces permissions"
      ]
    },
    {
      "cell_type": "markdown",
      "metadata": {
        "id": "dQz3xmvdpR1i",
        "colab_type": "text"
      },
      "source": [
        "To insert SQL command directly to Jupyter notebook an etra library is needed: **pip install ipython-sql**"
      ]
    },
    {
      "cell_type": "markdown",
      "metadata": {
        "id": "rdR3gwzQpR1j",
        "colab_type": "text"
      },
      "source": [
        "We are not going to go deep into SQL, just some example to know how it looks like: "
      ]
    },
    {
      "cell_type": "code",
      "metadata": {
        "id": "ZJZ_Ys5mpR1k",
        "colab_type": "code",
        "colab": {
          "base_uri": "https://localhost:8080/",
          "height": 34
        },
        "outputId": "bfe1f3d6-69e3-4720-9bd9-17188fe64fa4"
      },
      "source": [
        "%env DATABASE_URL=sqlite:///users.db"
      ],
      "execution_count": 1,
      "outputs": [
        {
          "output_type": "stream",
          "text": [
            "env: DATABASE_URL=sqlite:///users.db\n"
          ],
          "name": "stdout"
        }
      ]
    },
    {
      "cell_type": "code",
      "metadata": {
        "id": "X6GvXvsMpcdI",
        "colab_type": "code",
        "colab": {
          "base_uri": "https://localhost:8080/",
          "height": 306
        },
        "outputId": "6935df8b-f26d-4d27-ba1a-3b4e0c63bc60"
      },
      "source": [
        "!pip install ipython-sql"
      ],
      "execution_count": 2,
      "outputs": [
        {
          "output_type": "stream",
          "text": [
            "Requirement already satisfied: ipython-sql in /usr/local/lib/python3.6/dist-packages (0.3.9)\n",
            "Requirement already satisfied: ipython-genutils>=0.1.0 in /usr/local/lib/python3.6/dist-packages (from ipython-sql) (0.2.0)\n",
            "Requirement already satisfied: ipython>=1.0 in /usr/local/lib/python3.6/dist-packages (from ipython-sql) (5.5.0)\n",
            "Requirement already satisfied: sqlparse in /usr/local/lib/python3.6/dist-packages (from ipython-sql) (0.3.0)\n",
            "Requirement already satisfied: six in /usr/local/lib/python3.6/dist-packages (from ipython-sql) (1.12.0)\n",
            "Requirement already satisfied: sqlalchemy>=0.6.7 in /usr/local/lib/python3.6/dist-packages (from ipython-sql) (1.3.8)\n",
            "Requirement already satisfied: prettytable in /usr/local/lib/python3.6/dist-packages (from ipython-sql) (0.7.2)\n",
            "Requirement already satisfied: simplegeneric>0.8 in /usr/local/lib/python3.6/dist-packages (from ipython>=1.0->ipython-sql) (0.8.1)\n",
            "Requirement already satisfied: setuptools>=18.5 in /usr/local/lib/python3.6/dist-packages (from ipython>=1.0->ipython-sql) (41.2.0)\n",
            "Requirement already satisfied: traitlets>=4.2 in /usr/local/lib/python3.6/dist-packages (from ipython>=1.0->ipython-sql) (4.3.2)\n",
            "Requirement already satisfied: pygments in /usr/local/lib/python3.6/dist-packages (from ipython>=1.0->ipython-sql) (2.1.3)\n",
            "Requirement already satisfied: prompt-toolkit<2.0.0,>=1.0.4 in /usr/local/lib/python3.6/dist-packages (from ipython>=1.0->ipython-sql) (1.0.16)\n",
            "Requirement already satisfied: pickleshare in /usr/local/lib/python3.6/dist-packages (from ipython>=1.0->ipython-sql) (0.7.5)\n",
            "Requirement already satisfied: decorator in /usr/local/lib/python3.6/dist-packages (from ipython>=1.0->ipython-sql) (4.4.0)\n",
            "Requirement already satisfied: pexpect; sys_platform != \"win32\" in /usr/local/lib/python3.6/dist-packages (from ipython>=1.0->ipython-sql) (4.7.0)\n",
            "Requirement already satisfied: wcwidth in /usr/local/lib/python3.6/dist-packages (from prompt-toolkit<2.0.0,>=1.0.4->ipython>=1.0->ipython-sql) (0.1.7)\n",
            "Requirement already satisfied: ptyprocess>=0.5 in /usr/local/lib/python3.6/dist-packages (from pexpect; sys_platform != \"win32\"->ipython>=1.0->ipython-sql) (0.6.0)\n"
          ],
          "name": "stdout"
        }
      ]
    },
    {
      "cell_type": "code",
      "metadata": {
        "id": "F5dcY54NpR1p",
        "colab_type": "code",
        "colab": {}
      },
      "source": [
        "%load_ext sql"
      ],
      "execution_count": 0,
      "outputs": []
    },
    {
      "cell_type": "markdown",
      "metadata": {
        "id": "uTljklPkpR1t",
        "colab_type": "text"
      },
      "source": [
        "### Create Table"
      ]
    },
    {
      "cell_type": "code",
      "metadata": {
        "id": "0db9ip2IpR1u",
        "colab_type": "code",
        "colab": {
          "base_uri": "https://localhost:8080/",
          "height": 51
        },
        "outputId": "21b83a38-6d3d-4962-f864-5a50213db36d"
      },
      "source": [
        "%%sql\n",
        "CREATE TABLE Users(\n",
        "    UserID int NOT NULL,\n",
        "    LastName varchar(255),\n",
        "    FirstName varchar(255),\n",
        "    City varchar(255), \n",
        "    PRIMARY KEY (UserID)\n",
        ");"
      ],
      "execution_count": 4,
      "outputs": [
        {
          "output_type": "stream",
          "text": [
            "Done.\n"
          ],
          "name": "stdout"
        },
        {
          "output_type": "execute_result",
          "data": {
            "text/plain": [
              "[]"
            ]
          },
          "metadata": {
            "tags": []
          },
          "execution_count": 4
        }
      ]
    },
    {
      "cell_type": "markdown",
      "metadata": {
        "id": "KqWC5bBrpR1x",
        "colab_type": "text"
      },
      "source": [
        "### Insert Data"
      ]
    },
    {
      "cell_type": "code",
      "metadata": {
        "id": "4nPxOX5ipR1z",
        "colab_type": "code",
        "colab": {
          "base_uri": "https://localhost:8080/",
          "height": 68
        },
        "outputId": "9e5484e7-ab41-48e4-d441-6aea39d49221"
      },
      "source": [
        "%%sql\n",
        "INSERT INTO Users (UserID,LastName, FirstName, City)\n",
        "VALUES (1,'Pujol','Nuria','Barcelona');"
      ],
      "execution_count": 5,
      "outputs": [
        {
          "output_type": "stream",
          "text": [
            " * sqlite:///users.db\n",
            "1 rows affected.\n"
          ],
          "name": "stdout"
        },
        {
          "output_type": "execute_result",
          "data": {
            "text/plain": [
              "[]"
            ]
          },
          "metadata": {
            "tags": []
          },
          "execution_count": 5
        }
      ]
    },
    {
      "cell_type": "markdown",
      "metadata": {
        "id": "f9Vc9apNpR14",
        "colab_type": "text"
      },
      "source": [
        "### Select Data"
      ]
    },
    {
      "cell_type": "code",
      "metadata": {
        "id": "pVGLX0dWpR16",
        "colab_type": "code",
        "colab": {
          "base_uri": "https://localhost:8080/",
          "height": 95
        },
        "outputId": "52e9e81d-22fa-439d-ef71-f2e5ad2e9ce9"
      },
      "source": [
        "%%sql\n",
        "SELECT * FROM Users;"
      ],
      "execution_count": 6,
      "outputs": [
        {
          "output_type": "stream",
          "text": [
            " * sqlite:///users.db\n",
            "Done.\n"
          ],
          "name": "stdout"
        },
        {
          "output_type": "execute_result",
          "data": {
            "text/html": [
              "<table>\n",
              "    <tr>\n",
              "        <th>UserID</th>\n",
              "        <th>LastName</th>\n",
              "        <th>FirstName</th>\n",
              "        <th>City</th>\n",
              "    </tr>\n",
              "    <tr>\n",
              "        <td>1</td>\n",
              "        <td>Pujol</td>\n",
              "        <td>Nuria</td>\n",
              "        <td>Barcelona</td>\n",
              "    </tr>\n",
              "</table>"
            ],
            "text/plain": [
              "[(1, 'Pujol', 'Nuria', 'Barcelona')]"
            ]
          },
          "metadata": {
            "tags": []
          },
          "execution_count": 6
        }
      ]
    },
    {
      "cell_type": "code",
      "metadata": {
        "id": "cE_1WoVZpR2A",
        "colab_type": "code",
        "colab": {
          "base_uri": "https://localhost:8080/",
          "height": 95
        },
        "outputId": "df7e5a16-8c5d-42a1-ab04-2ed292c7ac02"
      },
      "source": [
        "%%sql\n",
        "SELECT City FROM Users;"
      ],
      "execution_count": 7,
      "outputs": [
        {
          "output_type": "stream",
          "text": [
            " * sqlite:///users.db\n",
            "Done.\n"
          ],
          "name": "stdout"
        },
        {
          "output_type": "execute_result",
          "data": {
            "text/html": [
              "<table>\n",
              "    <tr>\n",
              "        <th>City</th>\n",
              "    </tr>\n",
              "    <tr>\n",
              "        <td>Barcelona</td>\n",
              "    </tr>\n",
              "</table>"
            ],
            "text/plain": [
              "[('Barcelona',)]"
            ]
          },
          "metadata": {
            "tags": []
          },
          "execution_count": 7
        }
      ]
    },
    {
      "cell_type": "markdown",
      "metadata": {
        "id": "aaf8Nua6pR2F",
        "colab_type": "text"
      },
      "source": [
        "If you want to learn a lite bit more about SQL I suggest you these tutorials:  \n",
        "* Intro to SQL for Data Science : https://www.datacamp.com/courses/intro-to-sql-for-data-science\n",
        "* Learn SQL : https://www.codecademy.com/learn/learn-sql"
      ]
    },
    {
      "cell_type": "markdown",
      "metadata": {
        "id": "e8Gz9053pR2G",
        "colab_type": "text"
      },
      "source": [
        "### Inserting SQL to Python"
      ]
    },
    {
      "cell_type": "code",
      "metadata": {
        "id": "sdrH8XcbpR2I",
        "colab_type": "code",
        "colab": {}
      },
      "source": [
        "import sqlite3\n",
        "conn = sqlite3.connect('example2.db')\n",
        " \n",
        "c = conn.cursor()\n",
        "c.execute('''\n",
        "          CREATE TABLE person\n",
        "          (id INTEGER PRIMARY KEY ASC, name varchar(250) NOT NULL)\n",
        "          ''')\n",
        "c.execute('''\n",
        "          CREATE TABLE address\n",
        "          (id INTEGER PRIMARY KEY ASC, street_name varchar(250), street_number varchar(250),\n",
        "           post_code varchar(250) NOT NULL, person_id INTEGER NOT NULL,\n",
        "           FOREIGN KEY(person_id) REFERENCES person(id))\n",
        "          ''')\n",
        " \n",
        "c.execute('''\n",
        "          INSERT INTO person VALUES(1, 'pythoncentral')\n",
        "          ''')\n",
        "c.execute('''\n",
        "          INSERT INTO address VALUES(1, 'python road', '1', '00000', 1)\n",
        "          ''')\n",
        " \n",
        "conn.commit()\n",
        "conn.close()"
      ],
      "execution_count": 0,
      "outputs": []
    },
    {
      "cell_type": "code",
      "metadata": {
        "id": "8XFr3XXGpR2L",
        "colab_type": "code",
        "colab": {
          "base_uri": "https://localhost:8080/",
          "height": 51
        },
        "outputId": "80d49365-ef34-47f1-b18b-f4b35a112357"
      },
      "source": [
        "conn = sqlite3.connect('example2.db')\n",
        "c = conn.cursor()\n",
        "\n",
        "c.execute('SELECT * FROM person')\n",
        "print(c.fetchall())\n",
        "c.execute('SELECT * FROM address')\n",
        "print(c.fetchall())\n",
        "conn.close()"
      ],
      "execution_count": 12,
      "outputs": [
        {
          "output_type": "stream",
          "text": [
            "[(1, 'pythoncentral')]\n",
            "[(1, 'python road', '1', '00000', 1)]\n"
          ],
          "name": "stdout"
        }
      ]
    },
    {
      "cell_type": "markdown",
      "metadata": {
        "id": "YB-hRtFRpR2O",
        "colab_type": "text"
      },
      "source": [
        "Exist differences between SQL language used by different Relational Databases. For this reason we say that SQL have differents dialects."
      ]
    },
    {
      "cell_type": "markdown",
      "metadata": {
        "id": "7idfSZfypR2P",
        "colab_type": "text"
      },
      "source": [
        "## SQLAlchemy (Python Library)"
      ]
    },
    {
      "cell_type": "markdown",
      "metadata": {
        "id": "jH85GgDvpR2Q",
        "colab_type": "text"
      },
      "source": [
        "SQLAlchemy provides a Pythonic way of interacting with databases avoiding to deal with SQL dialects differences.   \n",
        "It is an open source and cross-platform software released under MIT license.\n",
        "\n",
        "The following are the dialects included:\n",
        "\n",
        "* Firebird\n",
        "* Microsoft SQL Server\n",
        "* **MySQL**\n",
        "* Oracle\n",
        "* **PostgreSQL**\n",
        "* SQLite\n",
        "* Sybase"
      ]
    },
    {
      "cell_type": "markdown",
      "metadata": {
        "id": "BdwBVjvCpR2R",
        "colab_type": "text"
      },
      "source": [
        "We can also use SQL queries using SQLAlchemy:"
      ]
    },
    {
      "cell_type": "code",
      "metadata": {
        "id": "RSuExTrFpR2S",
        "colab_type": "code",
        "colab": {
          "base_uri": "https://localhost:8080/",
          "height": 34
        },
        "outputId": "2f05f65e-bc8b-4c16-9a3e-cf9b0950f0fb"
      },
      "source": [
        "from sqlalchemy import create_engine\n",
        "\n",
        "engine = create_engine('sqlite:///users.db')\n",
        "\n",
        "with engine.connect() as con:\n",
        "\n",
        "    rs = con.execute('SELECT * FROM Users')\n",
        "\n",
        "    for row in rs:\n",
        "        print(row)"
      ],
      "execution_count": 13,
      "outputs": [
        {
          "output_type": "stream",
          "text": [
            "(1, 'Pujol', 'Nuria', 'Barcelona')\n"
          ],
          "name": "stdout"
        }
      ]
    },
    {
      "cell_type": "markdown",
      "metadata": {
        "id": "vTqdbtTQpR2V",
        "colab_type": "text"
      },
      "source": [
        "The most powerfull part of this library is **SQLAlchemy-ORM**\n",
        "\n",
        "ORM (Object Relatinal Mapping) makes possible to convert data between incompatible type systems in object-oriented programming languages (Python, for example). In an ORM system, each class maps to a table in the database."
      ]
    },
    {
      "cell_type": "markdown",
      "metadata": {
        "id": "cKTIo6kcpR2X",
        "colab_type": "text"
      },
      "source": [
        "Can be installed by: **pip install sqlalchemy**"
      ]
    },
    {
      "cell_type": "markdown",
      "metadata": {
        "id": "KlD4s03UpR2Y",
        "colab_type": "text"
      },
      "source": [
        "### 1. Schema Definition:"
      ]
    },
    {
      "cell_type": "markdown",
      "metadata": {
        "id": "u1cSS7bcpR2Z",
        "colab_type": "text"
      },
      "source": [
        "Import al libraries:"
      ]
    },
    {
      "cell_type": "code",
      "metadata": {
        "id": "eQdBtGjCpR2a",
        "colab_type": "code",
        "colab": {}
      },
      "source": [
        "from sqlalchemy import create_engine\n",
        "from sqlalchemy.ext.declarative import declarative_base\n",
        "from sqlalchemy import Column, Integer, String"
      ],
      "execution_count": 0,
      "outputs": []
    },
    {
      "cell_type": "markdown",
      "metadata": {
        "id": "Th28HJsJpR2d",
        "colab_type": "text"
      },
      "source": [
        "We will use a local SQLite database \"engine\". We create it that way:"
      ]
    },
    {
      "cell_type": "code",
      "metadata": {
        "id": "Mr9qnmwbpR2e",
        "colab_type": "code",
        "colab": {}
      },
      "source": [
        "engine = create_engine('sqlite:///films_example1.db')"
      ],
      "execution_count": 0,
      "outputs": []
    },
    {
      "cell_type": "markdown",
      "metadata": {
        "id": "wKJkJN5wpR2h",
        "colab_type": "text"
      },
      "source": [
        "Define tables (name, columns and types) into a class:"
      ]
    },
    {
      "cell_type": "code",
      "metadata": {
        "id": "3S9mo11xpR2j",
        "colab_type": "code",
        "colab": {}
      },
      "source": [
        "Base = declarative_base()\n",
        "\n",
        "class Film(Base):\n",
        "    \n",
        "    __tablename__ = 'films'\n",
        "    \n",
        "    id = Column(Integer, primary_key=True)\n",
        "    title = Column(String)\n",
        "    year = Column(Integer)\n",
        "    director = Column(String)\n",
        "    \n",
        "    def __repr__(self):\n",
        "        return \"<Film(title='%s', year='%d', director='%s')>\" % (self.title, self.year, self.director)"
      ],
      "execution_count": 0,
      "outputs": []
    },
    {
      "cell_type": "markdown",
      "metadata": {
        "id": "eTTsoLq_pR2p",
        "colab_type": "text"
      },
      "source": [
        "Create all tables in the database: This is equivalent to \"Create Table\" statement in SQL"
      ]
    },
    {
      "cell_type": "code",
      "metadata": {
        "id": "A2nowkn6pR2r",
        "colab_type": "code",
        "colab": {}
      },
      "source": [
        "Base.metadata.create_all(engine)"
      ],
      "execution_count": 0,
      "outputs": []
    },
    {
      "cell_type": "markdown",
      "metadata": {
        "id": "roJ7h-b1pR2v",
        "colab_type": "text"
      },
      "source": [
        "This step is equivalent to \"Create Table\" statement in SQL.  \n",
        "\n",
        "**At this point we only have an \"empty divided box\".**"
      ]
    },
    {
      "cell_type": "markdown",
      "metadata": {
        "id": "wp2NQmtApR2w",
        "colab_type": "text"
      },
      "source": [
        "### 2. Adding Data to DB"
      ]
    },
    {
      "cell_type": "markdown",
      "metadata": {
        "id": "0_2zJroZpR2x",
        "colab_type": "text"
      },
      "source": [
        "Import more libraries needed:"
      ]
    },
    {
      "cell_type": "code",
      "metadata": {
        "id": "Ois9OPOzpR2z",
        "colab_type": "code",
        "colab": {}
      },
      "source": [
        "from sqlalchemy.orm import sessionmaker"
      ],
      "execution_count": 0,
      "outputs": []
    },
    {
      "cell_type": "markdown",
      "metadata": {
        "id": "rM3kutBcpR22",
        "colab_type": "text"
      },
      "source": [
        "First of all, we have to create a Session related to our database. A Session is needed by ORM to deal between Python classes and the engine that actually communicates with the database:"
      ]
    },
    {
      "cell_type": "code",
      "metadata": {
        "id": "wzGP98jspR23",
        "colab_type": "code",
        "colab": {}
      },
      "source": [
        "Session = sessionmaker(bind=engine)\n",
        "session = Session()"
      ],
      "execution_count": 0,
      "outputs": []
    },
    {
      "cell_type": "markdown",
      "metadata": {
        "id": "bR4juCJjpR28",
        "colab_type": "text"
      },
      "source": [
        "Create a new Film object:"
      ]
    },
    {
      "cell_type": "code",
      "metadata": {
        "id": "T8BrvCMWpR29",
        "colab_type": "code",
        "colab": {}
      },
      "source": [
        "new_film = Film(title='Seven', year=1995, director='David Fincher')"
      ],
      "execution_count": 0,
      "outputs": []
    },
    {
      "cell_type": "markdown",
      "metadata": {
        "id": "riTlP8IqpR3A",
        "colab_type": "text"
      },
      "source": [
        "Add it to database (to session, in fact):"
      ]
    },
    {
      "cell_type": "code",
      "metadata": {
        "id": "lMlTQ6AqpR3B",
        "colab_type": "code",
        "colab": {}
      },
      "source": [
        "session.add(new_film)\n",
        "session.commit()"
      ],
      "execution_count": 0,
      "outputs": []
    },
    {
      "cell_type": "markdown",
      "metadata": {
        "id": "MtZpab4spR3E",
        "colab_type": "text"
      },
      "source": [
        "We are going to check if this film is really in the database: "
      ]
    },
    {
      "cell_type": "code",
      "metadata": {
        "id": "2nQV210GpR3F",
        "colab_type": "code",
        "colab": {
          "base_uri": "https://localhost:8080/",
          "height": 34
        },
        "outputId": "bbd57700-8783-4a0b-bef3-35b6df8d3cb6"
      },
      "source": [
        "session.query(Film).all()"
      ],
      "execution_count": 22,
      "outputs": [
        {
          "output_type": "execute_result",
          "data": {
            "text/plain": [
              "[<Film(title='Seven', year='1995', director='David Fincher')>]"
            ]
          },
          "metadata": {
            "tags": []
          },
          "execution_count": 22
        }
      ]
    },
    {
      "cell_type": "markdown",
      "metadata": {
        "id": "KJEYFdf3pR3I",
        "colab_type": "text"
      },
      "source": [
        "But what happen if a try to do add it again?"
      ]
    },
    {
      "cell_type": "code",
      "metadata": {
        "id": "cQbnxnxfpR3K",
        "colab_type": "code",
        "colab": {}
      },
      "source": [
        "new_film2 = Film(title='Seven', year=1995, director='David Fincher')\n",
        "session.add(new_film2)\n",
        "session.commit()"
      ],
      "execution_count": 0,
      "outputs": []
    },
    {
      "cell_type": "code",
      "metadata": {
        "id": "Jyu-8RmmpR3O",
        "colab_type": "code",
        "colab": {
          "base_uri": "https://localhost:8080/",
          "height": 51
        },
        "outputId": "f0f3a05b-fd49-405c-d06f-0e942ed36432"
      },
      "source": [
        "session.query(Film).all()"
      ],
      "execution_count": 24,
      "outputs": [
        {
          "output_type": "execute_result",
          "data": {
            "text/plain": [
              "[<Film(title='Seven', year='1995', director='David Fincher')>,\n",
              " <Film(title='Seven', year='1995', director='David Fincher')>]"
            ]
          },
          "metadata": {
            "tags": []
          },
          "execution_count": 24
        }
      ]
    },
    {
      "cell_type": "markdown",
      "metadata": {
        "id": "rj6SZjOSpR3R",
        "colab_type": "text"
      },
      "source": [
        "### 2.1 Diferent ways to avoid duplicates:"
      ]
    },
    {
      "cell_type": "markdown",
      "metadata": {
        "id": "H1RmS3OJpR3S",
        "colab_type": "text"
      },
      "source": [
        "#### 2.1.1 Using significant primary keys"
      ]
    },
    {
      "cell_type": "code",
      "metadata": {
        "id": "ITF2ARWEpR3T",
        "colab_type": "code",
        "colab": {}
      },
      "source": [
        "Base = declarative_base()\n",
        "\n",
        "class FilmDIBA(Base):\n",
        "    \n",
        "    __tablename__ = 'filmsDIBA'\n",
        "    \n",
        "    code = Column(String, primary_key=True)#<==== unique code used in Libraries\n",
        "    title = Column(String)\n",
        "    year = Column(Integer)\n",
        "    director = Column(String)\n",
        "    \n",
        "    def __repr__(self):\n",
        "        return \"<FilmDIBA(code= '%s',title='%s', year='%d', director='%s')>\" % (self.code, self.title, self.year, self.director)\n",
        "\n",
        "Base.metadata.create_all(engine)"
      ],
      "execution_count": 0,
      "outputs": []
    },
    {
      "cell_type": "code",
      "metadata": {
        "id": "iOtlcNncpR3X",
        "colab_type": "code",
        "colab": {}
      },
      "source": [
        "new_film = FilmDIBA(code = 'DVD Sev',title='Seven', year=1995, director='David Fincher')\n",
        "session.add(new_film)\n",
        "session.commit()"
      ],
      "execution_count": 0,
      "outputs": []
    },
    {
      "cell_type": "markdown",
      "metadata": {
        "id": "P1DiUHPipR3a",
        "colab_type": "text"
      },
      "source": [
        "We get an error if we try to do it twice: "
      ]
    },
    {
      "cell_type": "code",
      "metadata": {
        "id": "oV-tEO_3pR3c",
        "colab_type": "code",
        "colab": {
          "base_uri": "https://localhost:8080/",
          "height": 340
        },
        "outputId": "b46648b0-d83a-41b7-ad63-cfc5cb9d04e8"
      },
      "source": [
        "new_film2 = FilmDIBA(code = 'DVD Sev',title='Seven', year=1995, director='David Fincher')\n",
        "session.add(new_film2)\n",
        "session.commit()"
      ],
      "execution_count": 27,
      "outputs": [
        {
          "output_type": "error",
          "ename": "FlushError",
          "evalue": "ignored",
          "traceback": [
            "\u001b[0;31m---------------------------------------------------------------------------\u001b[0m",
            "\u001b[0;31mFlushError\u001b[0m                                Traceback (most recent call last)",
            "\u001b[0;32m<ipython-input-27-aaa71b5560fc>\u001b[0m in \u001b[0;36m<module>\u001b[0;34m()\u001b[0m\n\u001b[1;32m      1\u001b[0m \u001b[0mnew_film2\u001b[0m \u001b[0;34m=\u001b[0m \u001b[0mFilmDIBA\u001b[0m\u001b[0;34m(\u001b[0m\u001b[0mcode\u001b[0m \u001b[0;34m=\u001b[0m \u001b[0;34m'DVD Sev'\u001b[0m\u001b[0;34m,\u001b[0m\u001b[0mtitle\u001b[0m\u001b[0;34m=\u001b[0m\u001b[0;34m'Seven'\u001b[0m\u001b[0;34m,\u001b[0m \u001b[0myear\u001b[0m\u001b[0;34m=\u001b[0m\u001b[0;36m1995\u001b[0m\u001b[0;34m,\u001b[0m \u001b[0mdirector\u001b[0m\u001b[0;34m=\u001b[0m\u001b[0;34m'David Fincher'\u001b[0m\u001b[0;34m)\u001b[0m\u001b[0;34m\u001b[0m\u001b[0;34m\u001b[0m\u001b[0m\n\u001b[1;32m      2\u001b[0m \u001b[0msession\u001b[0m\u001b[0;34m.\u001b[0m\u001b[0madd\u001b[0m\u001b[0;34m(\u001b[0m\u001b[0mnew_film2\u001b[0m\u001b[0;34m)\u001b[0m\u001b[0;34m\u001b[0m\u001b[0;34m\u001b[0m\u001b[0m\n\u001b[0;32m----> 3\u001b[0;31m \u001b[0msession\u001b[0m\u001b[0;34m.\u001b[0m\u001b[0mcommit\u001b[0m\u001b[0;34m(\u001b[0m\u001b[0;34m)\u001b[0m\u001b[0;34m\u001b[0m\u001b[0;34m\u001b[0m\u001b[0m\n\u001b[0m",
            "\u001b[0;32m/usr/local/lib/python3.6/dist-packages/sqlalchemy/orm/session.py\u001b[0m in \u001b[0;36mcommit\u001b[0;34m(self)\u001b[0m\n\u001b[1;32m   1025\u001b[0m                 \u001b[0;32mraise\u001b[0m \u001b[0msa_exc\u001b[0m\u001b[0;34m.\u001b[0m\u001b[0mInvalidRequestError\u001b[0m\u001b[0;34m(\u001b[0m\u001b[0;34m\"No transaction is begun.\"\u001b[0m\u001b[0;34m)\u001b[0m\u001b[0;34m\u001b[0m\u001b[0;34m\u001b[0m\u001b[0m\n\u001b[1;32m   1026\u001b[0m \u001b[0;34m\u001b[0m\u001b[0m\n\u001b[0;32m-> 1027\u001b[0;31m         \u001b[0mself\u001b[0m\u001b[0;34m.\u001b[0m\u001b[0mtransaction\u001b[0m\u001b[0;34m.\u001b[0m\u001b[0mcommit\u001b[0m\u001b[0;34m(\u001b[0m\u001b[0;34m)\u001b[0m\u001b[0;34m\u001b[0m\u001b[0;34m\u001b[0m\u001b[0m\n\u001b[0m\u001b[1;32m   1028\u001b[0m \u001b[0;34m\u001b[0m\u001b[0m\n\u001b[1;32m   1029\u001b[0m     \u001b[0;32mdef\u001b[0m \u001b[0mprepare\u001b[0m\u001b[0;34m(\u001b[0m\u001b[0mself\u001b[0m\u001b[0;34m)\u001b[0m\u001b[0;34m:\u001b[0m\u001b[0;34m\u001b[0m\u001b[0;34m\u001b[0m\u001b[0m\n",
            "\u001b[0;32m/usr/local/lib/python3.6/dist-packages/sqlalchemy/orm/session.py\u001b[0m in \u001b[0;36mcommit\u001b[0;34m(self)\u001b[0m\n\u001b[1;32m    492\u001b[0m         \u001b[0mself\u001b[0m\u001b[0;34m.\u001b[0m\u001b[0m_assert_active\u001b[0m\u001b[0;34m(\u001b[0m\u001b[0mprepared_ok\u001b[0m\u001b[0;34m=\u001b[0m\u001b[0;32mTrue\u001b[0m\u001b[0;34m)\u001b[0m\u001b[0;34m\u001b[0m\u001b[0;34m\u001b[0m\u001b[0m\n\u001b[1;32m    493\u001b[0m         \u001b[0;32mif\u001b[0m \u001b[0mself\u001b[0m\u001b[0;34m.\u001b[0m\u001b[0m_state\u001b[0m \u001b[0;32mis\u001b[0m \u001b[0;32mnot\u001b[0m \u001b[0mPREPARED\u001b[0m\u001b[0;34m:\u001b[0m\u001b[0;34m\u001b[0m\u001b[0;34m\u001b[0m\u001b[0m\n\u001b[0;32m--> 494\u001b[0;31m             \u001b[0mself\u001b[0m\u001b[0;34m.\u001b[0m\u001b[0m_prepare_impl\u001b[0m\u001b[0;34m(\u001b[0m\u001b[0;34m)\u001b[0m\u001b[0;34m\u001b[0m\u001b[0;34m\u001b[0m\u001b[0m\n\u001b[0m\u001b[1;32m    495\u001b[0m \u001b[0;34m\u001b[0m\u001b[0m\n\u001b[1;32m    496\u001b[0m         \u001b[0;32mif\u001b[0m \u001b[0mself\u001b[0m\u001b[0;34m.\u001b[0m\u001b[0m_parent\u001b[0m \u001b[0;32mis\u001b[0m \u001b[0;32mNone\u001b[0m \u001b[0;32mor\u001b[0m \u001b[0mself\u001b[0m\u001b[0;34m.\u001b[0m\u001b[0mnested\u001b[0m\u001b[0;34m:\u001b[0m\u001b[0;34m\u001b[0m\u001b[0;34m\u001b[0m\u001b[0m\n",
            "\u001b[0;32m/usr/local/lib/python3.6/dist-packages/sqlalchemy/orm/session.py\u001b[0m in \u001b[0;36m_prepare_impl\u001b[0;34m(self)\u001b[0m\n\u001b[1;32m    471\u001b[0m                 \u001b[0;32mif\u001b[0m \u001b[0mself\u001b[0m\u001b[0;34m.\u001b[0m\u001b[0msession\u001b[0m\u001b[0;34m.\u001b[0m\u001b[0m_is_clean\u001b[0m\u001b[0;34m(\u001b[0m\u001b[0;34m)\u001b[0m\u001b[0;34m:\u001b[0m\u001b[0;34m\u001b[0m\u001b[0;34m\u001b[0m\u001b[0m\n\u001b[1;32m    472\u001b[0m                     \u001b[0;32mbreak\u001b[0m\u001b[0;34m\u001b[0m\u001b[0;34m\u001b[0m\u001b[0m\n\u001b[0;32m--> 473\u001b[0;31m                 \u001b[0mself\u001b[0m\u001b[0;34m.\u001b[0m\u001b[0msession\u001b[0m\u001b[0;34m.\u001b[0m\u001b[0mflush\u001b[0m\u001b[0;34m(\u001b[0m\u001b[0;34m)\u001b[0m\u001b[0;34m\u001b[0m\u001b[0;34m\u001b[0m\u001b[0m\n\u001b[0m\u001b[1;32m    474\u001b[0m             \u001b[0;32melse\u001b[0m\u001b[0;34m:\u001b[0m\u001b[0;34m\u001b[0m\u001b[0;34m\u001b[0m\u001b[0m\n\u001b[1;32m    475\u001b[0m                 raise exc.FlushError(\n",
            "\u001b[0;32m/usr/local/lib/python3.6/dist-packages/sqlalchemy/orm/session.py\u001b[0m in \u001b[0;36mflush\u001b[0;34m(self, objects)\u001b[0m\n\u001b[1;32m   2457\u001b[0m         \u001b[0;32mtry\u001b[0m\u001b[0;34m:\u001b[0m\u001b[0;34m\u001b[0m\u001b[0;34m\u001b[0m\u001b[0m\n\u001b[1;32m   2458\u001b[0m             \u001b[0mself\u001b[0m\u001b[0;34m.\u001b[0m\u001b[0m_flushing\u001b[0m \u001b[0;34m=\u001b[0m \u001b[0;32mTrue\u001b[0m\u001b[0;34m\u001b[0m\u001b[0;34m\u001b[0m\u001b[0m\n\u001b[0;32m-> 2459\u001b[0;31m             \u001b[0mself\u001b[0m\u001b[0;34m.\u001b[0m\u001b[0m_flush\u001b[0m\u001b[0;34m(\u001b[0m\u001b[0mobjects\u001b[0m\u001b[0;34m)\u001b[0m\u001b[0;34m\u001b[0m\u001b[0;34m\u001b[0m\u001b[0m\n\u001b[0m\u001b[1;32m   2460\u001b[0m         \u001b[0;32mfinally\u001b[0m\u001b[0;34m:\u001b[0m\u001b[0;34m\u001b[0m\u001b[0;34m\u001b[0m\u001b[0m\n\u001b[1;32m   2461\u001b[0m             \u001b[0mself\u001b[0m\u001b[0;34m.\u001b[0m\u001b[0m_flushing\u001b[0m \u001b[0;34m=\u001b[0m \u001b[0;32mFalse\u001b[0m\u001b[0;34m\u001b[0m\u001b[0;34m\u001b[0m\u001b[0m\n",
            "\u001b[0;32m/usr/local/lib/python3.6/dist-packages/sqlalchemy/orm/session.py\u001b[0m in \u001b[0;36m_flush\u001b[0;34m(self, objects)\u001b[0m\n\u001b[1;32m   2595\u001b[0m         \u001b[0;32mexcept\u001b[0m\u001b[0;34m:\u001b[0m\u001b[0;34m\u001b[0m\u001b[0;34m\u001b[0m\u001b[0m\n\u001b[1;32m   2596\u001b[0m             \u001b[0;32mwith\u001b[0m \u001b[0mutil\u001b[0m\u001b[0;34m.\u001b[0m\u001b[0msafe_reraise\u001b[0m\u001b[0;34m(\u001b[0m\u001b[0;34m)\u001b[0m\u001b[0;34m:\u001b[0m\u001b[0;34m\u001b[0m\u001b[0;34m\u001b[0m\u001b[0m\n\u001b[0;32m-> 2597\u001b[0;31m                 \u001b[0mtransaction\u001b[0m\u001b[0;34m.\u001b[0m\u001b[0mrollback\u001b[0m\u001b[0;34m(\u001b[0m\u001b[0m_capture_exception\u001b[0m\u001b[0;34m=\u001b[0m\u001b[0;32mTrue\u001b[0m\u001b[0;34m)\u001b[0m\u001b[0;34m\u001b[0m\u001b[0;34m\u001b[0m\u001b[0m\n\u001b[0m\u001b[1;32m   2598\u001b[0m \u001b[0;34m\u001b[0m\u001b[0m\n\u001b[1;32m   2599\u001b[0m     def bulk_save_objects(\n",
            "\u001b[0;32m/usr/local/lib/python3.6/dist-packages/sqlalchemy/util/langhelpers.py\u001b[0m in \u001b[0;36m__exit__\u001b[0;34m(self, type_, value, traceback)\u001b[0m\n\u001b[1;32m     66\u001b[0m             \u001b[0mself\u001b[0m\u001b[0;34m.\u001b[0m\u001b[0m_exc_info\u001b[0m \u001b[0;34m=\u001b[0m \u001b[0;32mNone\u001b[0m  \u001b[0;31m# remove potential circular references\u001b[0m\u001b[0;34m\u001b[0m\u001b[0;34m\u001b[0m\u001b[0m\n\u001b[1;32m     67\u001b[0m             \u001b[0;32mif\u001b[0m \u001b[0;32mnot\u001b[0m \u001b[0mself\u001b[0m\u001b[0;34m.\u001b[0m\u001b[0mwarn_only\u001b[0m\u001b[0;34m:\u001b[0m\u001b[0;34m\u001b[0m\u001b[0;34m\u001b[0m\u001b[0m\n\u001b[0;32m---> 68\u001b[0;31m                 \u001b[0mcompat\u001b[0m\u001b[0;34m.\u001b[0m\u001b[0mreraise\u001b[0m\u001b[0;34m(\u001b[0m\u001b[0mexc_type\u001b[0m\u001b[0;34m,\u001b[0m \u001b[0mexc_value\u001b[0m\u001b[0;34m,\u001b[0m \u001b[0mexc_tb\u001b[0m\u001b[0;34m)\u001b[0m\u001b[0;34m\u001b[0m\u001b[0;34m\u001b[0m\u001b[0m\n\u001b[0m\u001b[1;32m     69\u001b[0m         \u001b[0;32melse\u001b[0m\u001b[0;34m:\u001b[0m\u001b[0;34m\u001b[0m\u001b[0;34m\u001b[0m\u001b[0m\n\u001b[1;32m     70\u001b[0m             \u001b[0;32mif\u001b[0m \u001b[0;32mnot\u001b[0m \u001b[0mcompat\u001b[0m\u001b[0;34m.\u001b[0m\u001b[0mpy3k\u001b[0m \u001b[0;32mand\u001b[0m \u001b[0mself\u001b[0m\u001b[0;34m.\u001b[0m\u001b[0m_exc_info\u001b[0m \u001b[0;32mand\u001b[0m \u001b[0mself\u001b[0m\u001b[0;34m.\u001b[0m\u001b[0m_exc_info\u001b[0m\u001b[0;34m[\u001b[0m\u001b[0;36m1\u001b[0m\u001b[0;34m]\u001b[0m\u001b[0;34m:\u001b[0m\u001b[0;34m\u001b[0m\u001b[0;34m\u001b[0m\u001b[0m\n",
            "\u001b[0;32m/usr/local/lib/python3.6/dist-packages/sqlalchemy/util/compat.py\u001b[0m in \u001b[0;36mreraise\u001b[0;34m(tp, value, tb, cause)\u001b[0m\n\u001b[1;32m    151\u001b[0m         \u001b[0;32mif\u001b[0m \u001b[0mvalue\u001b[0m\u001b[0;34m.\u001b[0m\u001b[0m__traceback__\u001b[0m \u001b[0;32mis\u001b[0m \u001b[0;32mnot\u001b[0m \u001b[0mtb\u001b[0m\u001b[0;34m:\u001b[0m\u001b[0;34m\u001b[0m\u001b[0;34m\u001b[0m\u001b[0m\n\u001b[1;32m    152\u001b[0m             \u001b[0;32mraise\u001b[0m \u001b[0mvalue\u001b[0m\u001b[0;34m.\u001b[0m\u001b[0mwith_traceback\u001b[0m\u001b[0;34m(\u001b[0m\u001b[0mtb\u001b[0m\u001b[0;34m)\u001b[0m\u001b[0;34m\u001b[0m\u001b[0;34m\u001b[0m\u001b[0m\n\u001b[0;32m--> 153\u001b[0;31m         \u001b[0;32mraise\u001b[0m \u001b[0mvalue\u001b[0m\u001b[0;34m\u001b[0m\u001b[0;34m\u001b[0m\u001b[0m\n\u001b[0m\u001b[1;32m    154\u001b[0m \u001b[0;34m\u001b[0m\u001b[0m\n\u001b[1;32m    155\u001b[0m     \u001b[0;32mdef\u001b[0m \u001b[0mu\u001b[0m\u001b[0;34m(\u001b[0m\u001b[0ms\u001b[0m\u001b[0;34m)\u001b[0m\u001b[0;34m:\u001b[0m\u001b[0;34m\u001b[0m\u001b[0;34m\u001b[0m\u001b[0m\n",
            "\u001b[0;32m/usr/local/lib/python3.6/dist-packages/sqlalchemy/orm/session.py\u001b[0m in \u001b[0;36m_flush\u001b[0;34m(self, objects)\u001b[0m\n\u001b[1;32m   2555\u001b[0m             \u001b[0mself\u001b[0m\u001b[0;34m.\u001b[0m\u001b[0m_warn_on_events\u001b[0m \u001b[0;34m=\u001b[0m \u001b[0;32mTrue\u001b[0m\u001b[0;34m\u001b[0m\u001b[0;34m\u001b[0m\u001b[0m\n\u001b[1;32m   2556\u001b[0m             \u001b[0;32mtry\u001b[0m\u001b[0;34m:\u001b[0m\u001b[0;34m\u001b[0m\u001b[0;34m\u001b[0m\u001b[0m\n\u001b[0;32m-> 2557\u001b[0;31m                 \u001b[0mflush_context\u001b[0m\u001b[0;34m.\u001b[0m\u001b[0mexecute\u001b[0m\u001b[0;34m(\u001b[0m\u001b[0;34m)\u001b[0m\u001b[0;34m\u001b[0m\u001b[0;34m\u001b[0m\u001b[0m\n\u001b[0m\u001b[1;32m   2558\u001b[0m             \u001b[0;32mfinally\u001b[0m\u001b[0;34m:\u001b[0m\u001b[0;34m\u001b[0m\u001b[0;34m\u001b[0m\u001b[0m\n\u001b[1;32m   2559\u001b[0m                 \u001b[0mself\u001b[0m\u001b[0;34m.\u001b[0m\u001b[0m_warn_on_events\u001b[0m \u001b[0;34m=\u001b[0m \u001b[0;32mFalse\u001b[0m\u001b[0;34m\u001b[0m\u001b[0;34m\u001b[0m\u001b[0m\n",
            "\u001b[0;32m/usr/local/lib/python3.6/dist-packages/sqlalchemy/orm/unitofwork.py\u001b[0m in \u001b[0;36mexecute\u001b[0;34m(self)\u001b[0m\n\u001b[1;32m    420\u001b[0m         \u001b[0;32melse\u001b[0m\u001b[0;34m:\u001b[0m\u001b[0;34m\u001b[0m\u001b[0;34m\u001b[0m\u001b[0m\n\u001b[1;32m    421\u001b[0m             \u001b[0;32mfor\u001b[0m \u001b[0mrec\u001b[0m \u001b[0;32min\u001b[0m \u001b[0mtopological\u001b[0m\u001b[0;34m.\u001b[0m\u001b[0msort\u001b[0m\u001b[0;34m(\u001b[0m\u001b[0mself\u001b[0m\u001b[0;34m.\u001b[0m\u001b[0mdependencies\u001b[0m\u001b[0;34m,\u001b[0m \u001b[0mpostsort_actions\u001b[0m\u001b[0;34m)\u001b[0m\u001b[0;34m:\u001b[0m\u001b[0;34m\u001b[0m\u001b[0;34m\u001b[0m\u001b[0m\n\u001b[0;32m--> 422\u001b[0;31m                 \u001b[0mrec\u001b[0m\u001b[0;34m.\u001b[0m\u001b[0mexecute\u001b[0m\u001b[0;34m(\u001b[0m\u001b[0mself\u001b[0m\u001b[0;34m)\u001b[0m\u001b[0;34m\u001b[0m\u001b[0;34m\u001b[0m\u001b[0m\n\u001b[0m\u001b[1;32m    423\u001b[0m \u001b[0;34m\u001b[0m\u001b[0m\n\u001b[1;32m    424\u001b[0m     \u001b[0;32mdef\u001b[0m \u001b[0mfinalize_flush_changes\u001b[0m\u001b[0;34m(\u001b[0m\u001b[0mself\u001b[0m\u001b[0;34m)\u001b[0m\u001b[0;34m:\u001b[0m\u001b[0;34m\u001b[0m\u001b[0;34m\u001b[0m\u001b[0m\n",
            "\u001b[0;32m/usr/local/lib/python3.6/dist-packages/sqlalchemy/orm/unitofwork.py\u001b[0m in \u001b[0;36mexecute\u001b[0;34m(self, uow)\u001b[0m\n\u001b[1;32m    587\u001b[0m             \u001b[0mself\u001b[0m\u001b[0;34m.\u001b[0m\u001b[0mmapper\u001b[0m\u001b[0;34m,\u001b[0m\u001b[0;34m\u001b[0m\u001b[0;34m\u001b[0m\u001b[0m\n\u001b[1;32m    588\u001b[0m             \u001b[0muow\u001b[0m\u001b[0;34m.\u001b[0m\u001b[0mstates_for_mapper_hierarchy\u001b[0m\u001b[0;34m(\u001b[0m\u001b[0mself\u001b[0m\u001b[0;34m.\u001b[0m\u001b[0mmapper\u001b[0m\u001b[0;34m,\u001b[0m \u001b[0;32mFalse\u001b[0m\u001b[0;34m,\u001b[0m \u001b[0;32mFalse\u001b[0m\u001b[0;34m)\u001b[0m\u001b[0;34m,\u001b[0m\u001b[0;34m\u001b[0m\u001b[0;34m\u001b[0m\u001b[0m\n\u001b[0;32m--> 589\u001b[0;31m             \u001b[0muow\u001b[0m\u001b[0;34m,\u001b[0m\u001b[0;34m\u001b[0m\u001b[0;34m\u001b[0m\u001b[0m\n\u001b[0m\u001b[1;32m    590\u001b[0m         )\n\u001b[1;32m    591\u001b[0m \u001b[0;34m\u001b[0m\u001b[0m\n",
            "\u001b[0;32m/usr/local/lib/python3.6/dist-packages/sqlalchemy/orm/persistence.py\u001b[0m in \u001b[0;36msave_obj\u001b[0;34m(base_mapper, states, uowtransaction, single)\u001b[0m\n\u001b[1;32m    211\u001b[0m         \u001b[0mrow_switch\u001b[0m\u001b[0;34m,\u001b[0m\u001b[0;34m\u001b[0m\u001b[0;34m\u001b[0m\u001b[0m\n\u001b[1;32m    212\u001b[0m         \u001b[0mupdate_version_id\u001b[0m\u001b[0;34m,\u001b[0m\u001b[0;34m\u001b[0m\u001b[0;34m\u001b[0m\u001b[0m\n\u001b[0;32m--> 213\u001b[0;31m     ) in _organize_states_for_save(base_mapper, states, uowtransaction):\n\u001b[0m\u001b[1;32m    214\u001b[0m         \u001b[0;32mif\u001b[0m \u001b[0mhas_identity\u001b[0m \u001b[0;32mor\u001b[0m \u001b[0mrow_switch\u001b[0m\u001b[0;34m:\u001b[0m\u001b[0;34m\u001b[0m\u001b[0;34m\u001b[0m\u001b[0m\n\u001b[1;32m    215\u001b[0m             states_to_update.append(\n",
            "\u001b[0;32m/usr/local/lib/python3.6/dist-packages/sqlalchemy/orm/persistence.py\u001b[0m in \u001b[0;36m_organize_states_for_save\u001b[0;34m(base_mapper, states, uowtransaction)\u001b[0m\n\u001b[1;32m    406\u001b[0m                         \u001b[0;34m\"New instance %s with identity key %s conflicts \"\u001b[0m\u001b[0;34m\u001b[0m\u001b[0;34m\u001b[0m\u001b[0m\n\u001b[1;32m    407\u001b[0m                         \u001b[0;34m\"with persistent instance %s\"\u001b[0m\u001b[0;34m\u001b[0m\u001b[0;34m\u001b[0m\u001b[0m\n\u001b[0;32m--> 408\u001b[0;31m                         \u001b[0;34m%\u001b[0m \u001b[0;34m(\u001b[0m\u001b[0mstate_str\u001b[0m\u001b[0;34m(\u001b[0m\u001b[0mstate\u001b[0m\u001b[0;34m)\u001b[0m\u001b[0;34m,\u001b[0m \u001b[0minstance_key\u001b[0m\u001b[0;34m,\u001b[0m \u001b[0mstate_str\u001b[0m\u001b[0;34m(\u001b[0m\u001b[0mexisting\u001b[0m\u001b[0;34m)\u001b[0m\u001b[0;34m)\u001b[0m\u001b[0;34m\u001b[0m\u001b[0;34m\u001b[0m\u001b[0m\n\u001b[0m\u001b[1;32m    409\u001b[0m                     )\n\u001b[1;32m    410\u001b[0m \u001b[0;34m\u001b[0m\u001b[0m\n",
            "\u001b[0;31mFlushError\u001b[0m: New instance <FilmDIBA at 0x7fa5b48cab38> with identity key (<class '__main__.FilmDIBA'>, ('DVD Sev',), None) conflicts with persistent instance <FilmDIBA at 0x7fa5b48cae80>"
          ]
        }
      ]
    },
    {
      "cell_type": "markdown",
      "metadata": {
        "id": "x7a9dNzRpR3g",
        "colab_type": "text"
      },
      "source": [
        "We have to check errors, detect it and rollback in database modification before to commit. We will see more usage examples later.  "
      ]
    },
    {
      "cell_type": "code",
      "metadata": {
        "id": "efuq5jTSpR3g",
        "colab_type": "code",
        "colab": {}
      },
      "source": [
        "session.rollback()"
      ],
      "execution_count": 0,
      "outputs": []
    },
    {
      "cell_type": "markdown",
      "metadata": {
        "id": "mbXiEH-LpR3k",
        "colab_type": "text"
      },
      "source": [
        "#### 2.1.2 Defining some parameters as \"unique\""
      ]
    },
    {
      "cell_type": "code",
      "metadata": {
        "id": "naxjxxrhpR3l",
        "colab_type": "code",
        "colab": {}
      },
      "source": [
        "class FilmUnique(Base):\n",
        "    \n",
        "    __tablename__ = 'filmsUnique'\n",
        "    \n",
        "    id = Column(Integer, primary_key=True)\n",
        "    title = Column(String, unique = True)\n",
        "    year = Column(Integer)\n",
        "    director = Column(String(30))\n",
        "    \n",
        "    def __repr__(self):\n",
        "        return \"<FilmUnique(title='%s', year='%d', director='%s')>\" % (self.title, self.year, self.director)"
      ],
      "execution_count": 0,
      "outputs": []
    },
    {
      "cell_type": "code",
      "metadata": {
        "id": "DXBYB0UrpR3o",
        "colab_type": "code",
        "colab": {}
      },
      "source": [
        "Base.metadata.create_all(engine)"
      ],
      "execution_count": 0,
      "outputs": []
    },
    {
      "cell_type": "code",
      "metadata": {
        "id": "DoHT-RNlpR3q",
        "colab_type": "code",
        "colab": {}
      },
      "source": [
        "new_film = FilmUnique(title='Seven', year=1995, director='David Fincher')\n",
        "session.add(new_film)\n",
        "session.commit()"
      ],
      "execution_count": 0,
      "outputs": []
    },
    {
      "cell_type": "code",
      "metadata": {
        "id": "QTqDVsRNpR3s",
        "colab_type": "code",
        "colab": {
          "base_uri": "https://localhost:8080/",
          "height": 476
        },
        "outputId": "57f4138b-d465-467b-ccff-1ff228e71a46"
      },
      "source": [
        "new_film2 = FilmUnique(title='Seven', year=1995, director='David Fincher')\n",
        "session.add(new_film2)\n",
        "session.commit()"
      ],
      "execution_count": 32,
      "outputs": [
        {
          "output_type": "error",
          "ename": "IntegrityError",
          "evalue": "ignored",
          "traceback": [
            "\u001b[0;31m---------------------------------------------------------------------------\u001b[0m",
            "\u001b[0;31mIntegrityError\u001b[0m                            Traceback (most recent call last)",
            "\u001b[0;32m/usr/local/lib/python3.6/dist-packages/sqlalchemy/engine/base.py\u001b[0m in \u001b[0;36m_execute_context\u001b[0;34m(self, dialect, constructor, statement, parameters, *args)\u001b[0m\n\u001b[1;32m   1248\u001b[0m                     self.dialect.do_execute(\n\u001b[0;32m-> 1249\u001b[0;31m                         \u001b[0mcursor\u001b[0m\u001b[0;34m,\u001b[0m \u001b[0mstatement\u001b[0m\u001b[0;34m,\u001b[0m \u001b[0mparameters\u001b[0m\u001b[0;34m,\u001b[0m \u001b[0mcontext\u001b[0m\u001b[0;34m\u001b[0m\u001b[0;34m\u001b[0m\u001b[0m\n\u001b[0m\u001b[1;32m   1250\u001b[0m                     )\n",
            "\u001b[0;32m/usr/local/lib/python3.6/dist-packages/sqlalchemy/engine/default.py\u001b[0m in \u001b[0;36mdo_execute\u001b[0;34m(self, cursor, statement, parameters, context)\u001b[0m\n\u001b[1;32m    551\u001b[0m     \u001b[0;32mdef\u001b[0m \u001b[0mdo_execute\u001b[0m\u001b[0;34m(\u001b[0m\u001b[0mself\u001b[0m\u001b[0;34m,\u001b[0m \u001b[0mcursor\u001b[0m\u001b[0;34m,\u001b[0m \u001b[0mstatement\u001b[0m\u001b[0;34m,\u001b[0m \u001b[0mparameters\u001b[0m\u001b[0;34m,\u001b[0m \u001b[0mcontext\u001b[0m\u001b[0;34m=\u001b[0m\u001b[0;32mNone\u001b[0m\u001b[0;34m)\u001b[0m\u001b[0;34m:\u001b[0m\u001b[0;34m\u001b[0m\u001b[0;34m\u001b[0m\u001b[0m\n\u001b[0;32m--> 552\u001b[0;31m         \u001b[0mcursor\u001b[0m\u001b[0;34m.\u001b[0m\u001b[0mexecute\u001b[0m\u001b[0;34m(\u001b[0m\u001b[0mstatement\u001b[0m\u001b[0;34m,\u001b[0m \u001b[0mparameters\u001b[0m\u001b[0;34m)\u001b[0m\u001b[0;34m\u001b[0m\u001b[0;34m\u001b[0m\u001b[0m\n\u001b[0m\u001b[1;32m    553\u001b[0m \u001b[0;34m\u001b[0m\u001b[0m\n",
            "\u001b[0;31mIntegrityError\u001b[0m: UNIQUE constraint failed: filmsUnique.title",
            "\nThe above exception was the direct cause of the following exception:\n",
            "\u001b[0;31mIntegrityError\u001b[0m                            Traceback (most recent call last)",
            "\u001b[0;32m<ipython-input-32-65632d0e5a5b>\u001b[0m in \u001b[0;36m<module>\u001b[0;34m()\u001b[0m\n\u001b[1;32m      1\u001b[0m \u001b[0mnew_film2\u001b[0m \u001b[0;34m=\u001b[0m \u001b[0mFilmUnique\u001b[0m\u001b[0;34m(\u001b[0m\u001b[0mtitle\u001b[0m\u001b[0;34m=\u001b[0m\u001b[0;34m'Seven'\u001b[0m\u001b[0;34m,\u001b[0m \u001b[0myear\u001b[0m\u001b[0;34m=\u001b[0m\u001b[0;36m1995\u001b[0m\u001b[0;34m,\u001b[0m \u001b[0mdirector\u001b[0m\u001b[0;34m=\u001b[0m\u001b[0;34m'David Fincher'\u001b[0m\u001b[0;34m)\u001b[0m\u001b[0;34m\u001b[0m\u001b[0;34m\u001b[0m\u001b[0m\n\u001b[1;32m      2\u001b[0m \u001b[0msession\u001b[0m\u001b[0;34m.\u001b[0m\u001b[0madd\u001b[0m\u001b[0;34m(\u001b[0m\u001b[0mnew_film2\u001b[0m\u001b[0;34m)\u001b[0m\u001b[0;34m\u001b[0m\u001b[0;34m\u001b[0m\u001b[0m\n\u001b[0;32m----> 3\u001b[0;31m \u001b[0msession\u001b[0m\u001b[0;34m.\u001b[0m\u001b[0mcommit\u001b[0m\u001b[0;34m(\u001b[0m\u001b[0;34m)\u001b[0m\u001b[0;34m\u001b[0m\u001b[0;34m\u001b[0m\u001b[0m\n\u001b[0m",
            "\u001b[0;32m/usr/local/lib/python3.6/dist-packages/sqlalchemy/orm/session.py\u001b[0m in \u001b[0;36mcommit\u001b[0;34m(self)\u001b[0m\n\u001b[1;32m   1025\u001b[0m                 \u001b[0;32mraise\u001b[0m \u001b[0msa_exc\u001b[0m\u001b[0;34m.\u001b[0m\u001b[0mInvalidRequestError\u001b[0m\u001b[0;34m(\u001b[0m\u001b[0;34m\"No transaction is begun.\"\u001b[0m\u001b[0;34m)\u001b[0m\u001b[0;34m\u001b[0m\u001b[0;34m\u001b[0m\u001b[0m\n\u001b[1;32m   1026\u001b[0m \u001b[0;34m\u001b[0m\u001b[0m\n\u001b[0;32m-> 1027\u001b[0;31m         \u001b[0mself\u001b[0m\u001b[0;34m.\u001b[0m\u001b[0mtransaction\u001b[0m\u001b[0;34m.\u001b[0m\u001b[0mcommit\u001b[0m\u001b[0;34m(\u001b[0m\u001b[0;34m)\u001b[0m\u001b[0;34m\u001b[0m\u001b[0;34m\u001b[0m\u001b[0m\n\u001b[0m\u001b[1;32m   1028\u001b[0m \u001b[0;34m\u001b[0m\u001b[0m\n\u001b[1;32m   1029\u001b[0m     \u001b[0;32mdef\u001b[0m \u001b[0mprepare\u001b[0m\u001b[0;34m(\u001b[0m\u001b[0mself\u001b[0m\u001b[0;34m)\u001b[0m\u001b[0;34m:\u001b[0m\u001b[0;34m\u001b[0m\u001b[0;34m\u001b[0m\u001b[0m\n",
            "\u001b[0;32m/usr/local/lib/python3.6/dist-packages/sqlalchemy/orm/session.py\u001b[0m in \u001b[0;36mcommit\u001b[0;34m(self)\u001b[0m\n\u001b[1;32m    492\u001b[0m         \u001b[0mself\u001b[0m\u001b[0;34m.\u001b[0m\u001b[0m_assert_active\u001b[0m\u001b[0;34m(\u001b[0m\u001b[0mprepared_ok\u001b[0m\u001b[0;34m=\u001b[0m\u001b[0;32mTrue\u001b[0m\u001b[0;34m)\u001b[0m\u001b[0;34m\u001b[0m\u001b[0;34m\u001b[0m\u001b[0m\n\u001b[1;32m    493\u001b[0m         \u001b[0;32mif\u001b[0m \u001b[0mself\u001b[0m\u001b[0;34m.\u001b[0m\u001b[0m_state\u001b[0m \u001b[0;32mis\u001b[0m \u001b[0;32mnot\u001b[0m \u001b[0mPREPARED\u001b[0m\u001b[0;34m:\u001b[0m\u001b[0;34m\u001b[0m\u001b[0;34m\u001b[0m\u001b[0m\n\u001b[0;32m--> 494\u001b[0;31m             \u001b[0mself\u001b[0m\u001b[0;34m.\u001b[0m\u001b[0m_prepare_impl\u001b[0m\u001b[0;34m(\u001b[0m\u001b[0;34m)\u001b[0m\u001b[0;34m\u001b[0m\u001b[0;34m\u001b[0m\u001b[0m\n\u001b[0m\u001b[1;32m    495\u001b[0m \u001b[0;34m\u001b[0m\u001b[0m\n\u001b[1;32m    496\u001b[0m         \u001b[0;32mif\u001b[0m \u001b[0mself\u001b[0m\u001b[0;34m.\u001b[0m\u001b[0m_parent\u001b[0m \u001b[0;32mis\u001b[0m \u001b[0;32mNone\u001b[0m \u001b[0;32mor\u001b[0m \u001b[0mself\u001b[0m\u001b[0;34m.\u001b[0m\u001b[0mnested\u001b[0m\u001b[0;34m:\u001b[0m\u001b[0;34m\u001b[0m\u001b[0;34m\u001b[0m\u001b[0m\n",
            "\u001b[0;32m/usr/local/lib/python3.6/dist-packages/sqlalchemy/orm/session.py\u001b[0m in \u001b[0;36m_prepare_impl\u001b[0;34m(self)\u001b[0m\n\u001b[1;32m    471\u001b[0m                 \u001b[0;32mif\u001b[0m \u001b[0mself\u001b[0m\u001b[0;34m.\u001b[0m\u001b[0msession\u001b[0m\u001b[0;34m.\u001b[0m\u001b[0m_is_clean\u001b[0m\u001b[0;34m(\u001b[0m\u001b[0;34m)\u001b[0m\u001b[0;34m:\u001b[0m\u001b[0;34m\u001b[0m\u001b[0;34m\u001b[0m\u001b[0m\n\u001b[1;32m    472\u001b[0m                     \u001b[0;32mbreak\u001b[0m\u001b[0;34m\u001b[0m\u001b[0;34m\u001b[0m\u001b[0m\n\u001b[0;32m--> 473\u001b[0;31m                 \u001b[0mself\u001b[0m\u001b[0;34m.\u001b[0m\u001b[0msession\u001b[0m\u001b[0;34m.\u001b[0m\u001b[0mflush\u001b[0m\u001b[0;34m(\u001b[0m\u001b[0;34m)\u001b[0m\u001b[0;34m\u001b[0m\u001b[0;34m\u001b[0m\u001b[0m\n\u001b[0m\u001b[1;32m    474\u001b[0m             \u001b[0;32melse\u001b[0m\u001b[0;34m:\u001b[0m\u001b[0;34m\u001b[0m\u001b[0;34m\u001b[0m\u001b[0m\n\u001b[1;32m    475\u001b[0m                 raise exc.FlushError(\n",
            "\u001b[0;32m/usr/local/lib/python3.6/dist-packages/sqlalchemy/orm/session.py\u001b[0m in \u001b[0;36mflush\u001b[0;34m(self, objects)\u001b[0m\n\u001b[1;32m   2457\u001b[0m         \u001b[0;32mtry\u001b[0m\u001b[0;34m:\u001b[0m\u001b[0;34m\u001b[0m\u001b[0;34m\u001b[0m\u001b[0m\n\u001b[1;32m   2458\u001b[0m             \u001b[0mself\u001b[0m\u001b[0;34m.\u001b[0m\u001b[0m_flushing\u001b[0m \u001b[0;34m=\u001b[0m \u001b[0;32mTrue\u001b[0m\u001b[0;34m\u001b[0m\u001b[0;34m\u001b[0m\u001b[0m\n\u001b[0;32m-> 2459\u001b[0;31m             \u001b[0mself\u001b[0m\u001b[0;34m.\u001b[0m\u001b[0m_flush\u001b[0m\u001b[0;34m(\u001b[0m\u001b[0mobjects\u001b[0m\u001b[0;34m)\u001b[0m\u001b[0;34m\u001b[0m\u001b[0;34m\u001b[0m\u001b[0m\n\u001b[0m\u001b[1;32m   2460\u001b[0m         \u001b[0;32mfinally\u001b[0m\u001b[0;34m:\u001b[0m\u001b[0;34m\u001b[0m\u001b[0;34m\u001b[0m\u001b[0m\n\u001b[1;32m   2461\u001b[0m             \u001b[0mself\u001b[0m\u001b[0;34m.\u001b[0m\u001b[0m_flushing\u001b[0m \u001b[0;34m=\u001b[0m \u001b[0;32mFalse\u001b[0m\u001b[0;34m\u001b[0m\u001b[0;34m\u001b[0m\u001b[0m\n",
            "\u001b[0;32m/usr/local/lib/python3.6/dist-packages/sqlalchemy/orm/session.py\u001b[0m in \u001b[0;36m_flush\u001b[0;34m(self, objects)\u001b[0m\n\u001b[1;32m   2595\u001b[0m         \u001b[0;32mexcept\u001b[0m\u001b[0;34m:\u001b[0m\u001b[0;34m\u001b[0m\u001b[0;34m\u001b[0m\u001b[0m\n\u001b[1;32m   2596\u001b[0m             \u001b[0;32mwith\u001b[0m \u001b[0mutil\u001b[0m\u001b[0;34m.\u001b[0m\u001b[0msafe_reraise\u001b[0m\u001b[0;34m(\u001b[0m\u001b[0;34m)\u001b[0m\u001b[0;34m:\u001b[0m\u001b[0;34m\u001b[0m\u001b[0;34m\u001b[0m\u001b[0m\n\u001b[0;32m-> 2597\u001b[0;31m                 \u001b[0mtransaction\u001b[0m\u001b[0;34m.\u001b[0m\u001b[0mrollback\u001b[0m\u001b[0;34m(\u001b[0m\u001b[0m_capture_exception\u001b[0m\u001b[0;34m=\u001b[0m\u001b[0;32mTrue\u001b[0m\u001b[0;34m)\u001b[0m\u001b[0;34m\u001b[0m\u001b[0;34m\u001b[0m\u001b[0m\n\u001b[0m\u001b[1;32m   2598\u001b[0m \u001b[0;34m\u001b[0m\u001b[0m\n\u001b[1;32m   2599\u001b[0m     def bulk_save_objects(\n",
            "\u001b[0;32m/usr/local/lib/python3.6/dist-packages/sqlalchemy/util/langhelpers.py\u001b[0m in \u001b[0;36m__exit__\u001b[0;34m(self, type_, value, traceback)\u001b[0m\n\u001b[1;32m     66\u001b[0m             \u001b[0mself\u001b[0m\u001b[0;34m.\u001b[0m\u001b[0m_exc_info\u001b[0m \u001b[0;34m=\u001b[0m \u001b[0;32mNone\u001b[0m  \u001b[0;31m# remove potential circular references\u001b[0m\u001b[0;34m\u001b[0m\u001b[0;34m\u001b[0m\u001b[0m\n\u001b[1;32m     67\u001b[0m             \u001b[0;32mif\u001b[0m \u001b[0;32mnot\u001b[0m \u001b[0mself\u001b[0m\u001b[0;34m.\u001b[0m\u001b[0mwarn_only\u001b[0m\u001b[0;34m:\u001b[0m\u001b[0;34m\u001b[0m\u001b[0;34m\u001b[0m\u001b[0m\n\u001b[0;32m---> 68\u001b[0;31m                 \u001b[0mcompat\u001b[0m\u001b[0;34m.\u001b[0m\u001b[0mreraise\u001b[0m\u001b[0;34m(\u001b[0m\u001b[0mexc_type\u001b[0m\u001b[0;34m,\u001b[0m \u001b[0mexc_value\u001b[0m\u001b[0;34m,\u001b[0m \u001b[0mexc_tb\u001b[0m\u001b[0;34m)\u001b[0m\u001b[0;34m\u001b[0m\u001b[0;34m\u001b[0m\u001b[0m\n\u001b[0m\u001b[1;32m     69\u001b[0m         \u001b[0;32melse\u001b[0m\u001b[0;34m:\u001b[0m\u001b[0;34m\u001b[0m\u001b[0;34m\u001b[0m\u001b[0m\n\u001b[1;32m     70\u001b[0m             \u001b[0;32mif\u001b[0m \u001b[0;32mnot\u001b[0m \u001b[0mcompat\u001b[0m\u001b[0;34m.\u001b[0m\u001b[0mpy3k\u001b[0m \u001b[0;32mand\u001b[0m \u001b[0mself\u001b[0m\u001b[0;34m.\u001b[0m\u001b[0m_exc_info\u001b[0m \u001b[0;32mand\u001b[0m \u001b[0mself\u001b[0m\u001b[0;34m.\u001b[0m\u001b[0m_exc_info\u001b[0m\u001b[0;34m[\u001b[0m\u001b[0;36m1\u001b[0m\u001b[0;34m]\u001b[0m\u001b[0;34m:\u001b[0m\u001b[0;34m\u001b[0m\u001b[0;34m\u001b[0m\u001b[0m\n",
            "\u001b[0;32m/usr/local/lib/python3.6/dist-packages/sqlalchemy/util/compat.py\u001b[0m in \u001b[0;36mreraise\u001b[0;34m(tp, value, tb, cause)\u001b[0m\n\u001b[1;32m    151\u001b[0m         \u001b[0;32mif\u001b[0m \u001b[0mvalue\u001b[0m\u001b[0;34m.\u001b[0m\u001b[0m__traceback__\u001b[0m \u001b[0;32mis\u001b[0m \u001b[0;32mnot\u001b[0m \u001b[0mtb\u001b[0m\u001b[0;34m:\u001b[0m\u001b[0;34m\u001b[0m\u001b[0;34m\u001b[0m\u001b[0m\n\u001b[1;32m    152\u001b[0m             \u001b[0;32mraise\u001b[0m \u001b[0mvalue\u001b[0m\u001b[0;34m.\u001b[0m\u001b[0mwith_traceback\u001b[0m\u001b[0;34m(\u001b[0m\u001b[0mtb\u001b[0m\u001b[0;34m)\u001b[0m\u001b[0;34m\u001b[0m\u001b[0;34m\u001b[0m\u001b[0m\n\u001b[0;32m--> 153\u001b[0;31m         \u001b[0;32mraise\u001b[0m \u001b[0mvalue\u001b[0m\u001b[0;34m\u001b[0m\u001b[0;34m\u001b[0m\u001b[0m\n\u001b[0m\u001b[1;32m    154\u001b[0m \u001b[0;34m\u001b[0m\u001b[0m\n\u001b[1;32m    155\u001b[0m     \u001b[0;32mdef\u001b[0m \u001b[0mu\u001b[0m\u001b[0;34m(\u001b[0m\u001b[0ms\u001b[0m\u001b[0;34m)\u001b[0m\u001b[0;34m:\u001b[0m\u001b[0;34m\u001b[0m\u001b[0;34m\u001b[0m\u001b[0m\n",
            "\u001b[0;32m/usr/local/lib/python3.6/dist-packages/sqlalchemy/orm/session.py\u001b[0m in \u001b[0;36m_flush\u001b[0;34m(self, objects)\u001b[0m\n\u001b[1;32m   2555\u001b[0m             \u001b[0mself\u001b[0m\u001b[0;34m.\u001b[0m\u001b[0m_warn_on_events\u001b[0m \u001b[0;34m=\u001b[0m \u001b[0;32mTrue\u001b[0m\u001b[0;34m\u001b[0m\u001b[0;34m\u001b[0m\u001b[0m\n\u001b[1;32m   2556\u001b[0m             \u001b[0;32mtry\u001b[0m\u001b[0;34m:\u001b[0m\u001b[0;34m\u001b[0m\u001b[0;34m\u001b[0m\u001b[0m\n\u001b[0;32m-> 2557\u001b[0;31m                 \u001b[0mflush_context\u001b[0m\u001b[0;34m.\u001b[0m\u001b[0mexecute\u001b[0m\u001b[0;34m(\u001b[0m\u001b[0;34m)\u001b[0m\u001b[0;34m\u001b[0m\u001b[0;34m\u001b[0m\u001b[0m\n\u001b[0m\u001b[1;32m   2558\u001b[0m             \u001b[0;32mfinally\u001b[0m\u001b[0;34m:\u001b[0m\u001b[0;34m\u001b[0m\u001b[0;34m\u001b[0m\u001b[0m\n\u001b[1;32m   2559\u001b[0m                 \u001b[0mself\u001b[0m\u001b[0;34m.\u001b[0m\u001b[0m_warn_on_events\u001b[0m \u001b[0;34m=\u001b[0m \u001b[0;32mFalse\u001b[0m\u001b[0;34m\u001b[0m\u001b[0;34m\u001b[0m\u001b[0m\n",
            "\u001b[0;32m/usr/local/lib/python3.6/dist-packages/sqlalchemy/orm/unitofwork.py\u001b[0m in \u001b[0;36mexecute\u001b[0;34m(self)\u001b[0m\n\u001b[1;32m    420\u001b[0m         \u001b[0;32melse\u001b[0m\u001b[0;34m:\u001b[0m\u001b[0;34m\u001b[0m\u001b[0;34m\u001b[0m\u001b[0m\n\u001b[1;32m    421\u001b[0m             \u001b[0;32mfor\u001b[0m \u001b[0mrec\u001b[0m \u001b[0;32min\u001b[0m \u001b[0mtopological\u001b[0m\u001b[0;34m.\u001b[0m\u001b[0msort\u001b[0m\u001b[0;34m(\u001b[0m\u001b[0mself\u001b[0m\u001b[0;34m.\u001b[0m\u001b[0mdependencies\u001b[0m\u001b[0;34m,\u001b[0m \u001b[0mpostsort_actions\u001b[0m\u001b[0;34m)\u001b[0m\u001b[0;34m:\u001b[0m\u001b[0;34m\u001b[0m\u001b[0;34m\u001b[0m\u001b[0m\n\u001b[0;32m--> 422\u001b[0;31m                 \u001b[0mrec\u001b[0m\u001b[0;34m.\u001b[0m\u001b[0mexecute\u001b[0m\u001b[0;34m(\u001b[0m\u001b[0mself\u001b[0m\u001b[0;34m)\u001b[0m\u001b[0;34m\u001b[0m\u001b[0;34m\u001b[0m\u001b[0m\n\u001b[0m\u001b[1;32m    423\u001b[0m \u001b[0;34m\u001b[0m\u001b[0m\n\u001b[1;32m    424\u001b[0m     \u001b[0;32mdef\u001b[0m \u001b[0mfinalize_flush_changes\u001b[0m\u001b[0;34m(\u001b[0m\u001b[0mself\u001b[0m\u001b[0;34m)\u001b[0m\u001b[0;34m:\u001b[0m\u001b[0;34m\u001b[0m\u001b[0;34m\u001b[0m\u001b[0m\n",
            "\u001b[0;32m/usr/local/lib/python3.6/dist-packages/sqlalchemy/orm/unitofwork.py\u001b[0m in \u001b[0;36mexecute\u001b[0;34m(self, uow)\u001b[0m\n\u001b[1;32m    587\u001b[0m             \u001b[0mself\u001b[0m\u001b[0;34m.\u001b[0m\u001b[0mmapper\u001b[0m\u001b[0;34m,\u001b[0m\u001b[0;34m\u001b[0m\u001b[0;34m\u001b[0m\u001b[0m\n\u001b[1;32m    588\u001b[0m             \u001b[0muow\u001b[0m\u001b[0;34m.\u001b[0m\u001b[0mstates_for_mapper_hierarchy\u001b[0m\u001b[0;34m(\u001b[0m\u001b[0mself\u001b[0m\u001b[0;34m.\u001b[0m\u001b[0mmapper\u001b[0m\u001b[0;34m,\u001b[0m \u001b[0;32mFalse\u001b[0m\u001b[0;34m,\u001b[0m \u001b[0;32mFalse\u001b[0m\u001b[0;34m)\u001b[0m\u001b[0;34m,\u001b[0m\u001b[0;34m\u001b[0m\u001b[0;34m\u001b[0m\u001b[0m\n\u001b[0;32m--> 589\u001b[0;31m             \u001b[0muow\u001b[0m\u001b[0;34m,\u001b[0m\u001b[0;34m\u001b[0m\u001b[0;34m\u001b[0m\u001b[0m\n\u001b[0m\u001b[1;32m    590\u001b[0m         )\n\u001b[1;32m    591\u001b[0m \u001b[0;34m\u001b[0m\u001b[0m\n",
            "\u001b[0;32m/usr/local/lib/python3.6/dist-packages/sqlalchemy/orm/persistence.py\u001b[0m in \u001b[0;36msave_obj\u001b[0;34m(base_mapper, states, uowtransaction, single)\u001b[0m\n\u001b[1;32m    243\u001b[0m             \u001b[0mmapper\u001b[0m\u001b[0;34m,\u001b[0m\u001b[0;34m\u001b[0m\u001b[0;34m\u001b[0m\u001b[0m\n\u001b[1;32m    244\u001b[0m             \u001b[0mtable\u001b[0m\u001b[0;34m,\u001b[0m\u001b[0;34m\u001b[0m\u001b[0;34m\u001b[0m\u001b[0m\n\u001b[0;32m--> 245\u001b[0;31m             \u001b[0minsert\u001b[0m\u001b[0;34m,\u001b[0m\u001b[0;34m\u001b[0m\u001b[0;34m\u001b[0m\u001b[0m\n\u001b[0m\u001b[1;32m    246\u001b[0m         )\n\u001b[1;32m    247\u001b[0m \u001b[0;34m\u001b[0m\u001b[0m\n",
            "\u001b[0;32m/usr/local/lib/python3.6/dist-packages/sqlalchemy/orm/persistence.py\u001b[0m in \u001b[0;36m_emit_insert_statements\u001b[0;34m(base_mapper, uowtransaction, cached_connections, mapper, table, insert, bookkeeping)\u001b[0m\n\u001b[1;32m   1136\u001b[0m                 \u001b[0;32melse\u001b[0m\u001b[0;34m:\u001b[0m\u001b[0;34m\u001b[0m\u001b[0;34m\u001b[0m\u001b[0m\n\u001b[1;32m   1137\u001b[0m                     result = cached_connections[connection].execute(\n\u001b[0;32m-> 1138\u001b[0;31m                         \u001b[0mstatement\u001b[0m\u001b[0;34m,\u001b[0m \u001b[0mparams\u001b[0m\u001b[0;34m\u001b[0m\u001b[0;34m\u001b[0m\u001b[0m\n\u001b[0m\u001b[1;32m   1139\u001b[0m                     )\n\u001b[1;32m   1140\u001b[0m \u001b[0;34m\u001b[0m\u001b[0m\n",
            "\u001b[0;32m/usr/local/lib/python3.6/dist-packages/sqlalchemy/engine/base.py\u001b[0m in \u001b[0;36mexecute\u001b[0;34m(self, object_, *multiparams, **params)\u001b[0m\n\u001b[1;32m    986\u001b[0m             \u001b[0;32mraise\u001b[0m \u001b[0mexc\u001b[0m\u001b[0;34m.\u001b[0m\u001b[0mObjectNotExecutableError\u001b[0m\u001b[0;34m(\u001b[0m\u001b[0mobject_\u001b[0m\u001b[0;34m)\u001b[0m\u001b[0;34m\u001b[0m\u001b[0;34m\u001b[0m\u001b[0m\n\u001b[1;32m    987\u001b[0m         \u001b[0;32melse\u001b[0m\u001b[0;34m:\u001b[0m\u001b[0;34m\u001b[0m\u001b[0;34m\u001b[0m\u001b[0m\n\u001b[0;32m--> 988\u001b[0;31m             \u001b[0;32mreturn\u001b[0m \u001b[0mmeth\u001b[0m\u001b[0;34m(\u001b[0m\u001b[0mself\u001b[0m\u001b[0;34m,\u001b[0m \u001b[0mmultiparams\u001b[0m\u001b[0;34m,\u001b[0m \u001b[0mparams\u001b[0m\u001b[0;34m)\u001b[0m\u001b[0;34m\u001b[0m\u001b[0;34m\u001b[0m\u001b[0m\n\u001b[0m\u001b[1;32m    989\u001b[0m \u001b[0;34m\u001b[0m\u001b[0m\n\u001b[1;32m    990\u001b[0m     \u001b[0;32mdef\u001b[0m \u001b[0m_execute_function\u001b[0m\u001b[0;34m(\u001b[0m\u001b[0mself\u001b[0m\u001b[0;34m,\u001b[0m \u001b[0mfunc\u001b[0m\u001b[0;34m,\u001b[0m \u001b[0mmultiparams\u001b[0m\u001b[0;34m,\u001b[0m \u001b[0mparams\u001b[0m\u001b[0;34m)\u001b[0m\u001b[0;34m:\u001b[0m\u001b[0;34m\u001b[0m\u001b[0;34m\u001b[0m\u001b[0m\n",
            "\u001b[0;32m/usr/local/lib/python3.6/dist-packages/sqlalchemy/sql/elements.py\u001b[0m in \u001b[0;36m_execute_on_connection\u001b[0;34m(self, connection, multiparams, params)\u001b[0m\n\u001b[1;32m    285\u001b[0m     \u001b[0;32mdef\u001b[0m \u001b[0m_execute_on_connection\u001b[0m\u001b[0;34m(\u001b[0m\u001b[0mself\u001b[0m\u001b[0;34m,\u001b[0m \u001b[0mconnection\u001b[0m\u001b[0;34m,\u001b[0m \u001b[0mmultiparams\u001b[0m\u001b[0;34m,\u001b[0m \u001b[0mparams\u001b[0m\u001b[0;34m)\u001b[0m\u001b[0;34m:\u001b[0m\u001b[0;34m\u001b[0m\u001b[0;34m\u001b[0m\u001b[0m\n\u001b[1;32m    286\u001b[0m         \u001b[0;32mif\u001b[0m \u001b[0mself\u001b[0m\u001b[0;34m.\u001b[0m\u001b[0msupports_execution\u001b[0m\u001b[0;34m:\u001b[0m\u001b[0;34m\u001b[0m\u001b[0;34m\u001b[0m\u001b[0m\n\u001b[0;32m--> 287\u001b[0;31m             \u001b[0;32mreturn\u001b[0m \u001b[0mconnection\u001b[0m\u001b[0;34m.\u001b[0m\u001b[0m_execute_clauseelement\u001b[0m\u001b[0;34m(\u001b[0m\u001b[0mself\u001b[0m\u001b[0;34m,\u001b[0m \u001b[0mmultiparams\u001b[0m\u001b[0;34m,\u001b[0m \u001b[0mparams\u001b[0m\u001b[0;34m)\u001b[0m\u001b[0;34m\u001b[0m\u001b[0;34m\u001b[0m\u001b[0m\n\u001b[0m\u001b[1;32m    288\u001b[0m         \u001b[0;32melse\u001b[0m\u001b[0;34m:\u001b[0m\u001b[0;34m\u001b[0m\u001b[0;34m\u001b[0m\u001b[0m\n\u001b[1;32m    289\u001b[0m             \u001b[0;32mraise\u001b[0m \u001b[0mexc\u001b[0m\u001b[0;34m.\u001b[0m\u001b[0mObjectNotExecutableError\u001b[0m\u001b[0;34m(\u001b[0m\u001b[0mself\u001b[0m\u001b[0;34m)\u001b[0m\u001b[0;34m\u001b[0m\u001b[0;34m\u001b[0m\u001b[0m\n",
            "\u001b[0;32m/usr/local/lib/python3.6/dist-packages/sqlalchemy/engine/base.py\u001b[0m in \u001b[0;36m_execute_clauseelement\u001b[0;34m(self, elem, multiparams, params)\u001b[0m\n\u001b[1;32m   1105\u001b[0m             \u001b[0mdistilled_params\u001b[0m\u001b[0;34m,\u001b[0m\u001b[0;34m\u001b[0m\u001b[0;34m\u001b[0m\u001b[0m\n\u001b[1;32m   1106\u001b[0m             \u001b[0mcompiled_sql\u001b[0m\u001b[0;34m,\u001b[0m\u001b[0;34m\u001b[0m\u001b[0;34m\u001b[0m\u001b[0m\n\u001b[0;32m-> 1107\u001b[0;31m             \u001b[0mdistilled_params\u001b[0m\u001b[0;34m,\u001b[0m\u001b[0;34m\u001b[0m\u001b[0;34m\u001b[0m\u001b[0m\n\u001b[0m\u001b[1;32m   1108\u001b[0m         )\n\u001b[1;32m   1109\u001b[0m         \u001b[0;32mif\u001b[0m \u001b[0mself\u001b[0m\u001b[0;34m.\u001b[0m\u001b[0m_has_events\u001b[0m \u001b[0;32mor\u001b[0m \u001b[0mself\u001b[0m\u001b[0;34m.\u001b[0m\u001b[0mengine\u001b[0m\u001b[0;34m.\u001b[0m\u001b[0m_has_events\u001b[0m\u001b[0;34m:\u001b[0m\u001b[0;34m\u001b[0m\u001b[0;34m\u001b[0m\u001b[0m\n",
            "\u001b[0;32m/usr/local/lib/python3.6/dist-packages/sqlalchemy/engine/base.py\u001b[0m in \u001b[0;36m_execute_context\u001b[0;34m(self, dialect, constructor, statement, parameters, *args)\u001b[0m\n\u001b[1;32m   1251\u001b[0m         \u001b[0;32mexcept\u001b[0m \u001b[0mBaseException\u001b[0m \u001b[0;32mas\u001b[0m \u001b[0me\u001b[0m\u001b[0;34m:\u001b[0m\u001b[0;34m\u001b[0m\u001b[0;34m\u001b[0m\u001b[0m\n\u001b[1;32m   1252\u001b[0m             self._handle_dbapi_exception(\n\u001b[0;32m-> 1253\u001b[0;31m                 \u001b[0me\u001b[0m\u001b[0;34m,\u001b[0m \u001b[0mstatement\u001b[0m\u001b[0;34m,\u001b[0m \u001b[0mparameters\u001b[0m\u001b[0;34m,\u001b[0m \u001b[0mcursor\u001b[0m\u001b[0;34m,\u001b[0m \u001b[0mcontext\u001b[0m\u001b[0;34m\u001b[0m\u001b[0;34m\u001b[0m\u001b[0m\n\u001b[0m\u001b[1;32m   1254\u001b[0m             )\n\u001b[1;32m   1255\u001b[0m \u001b[0;34m\u001b[0m\u001b[0m\n",
            "\u001b[0;32m/usr/local/lib/python3.6/dist-packages/sqlalchemy/engine/base.py\u001b[0m in \u001b[0;36m_handle_dbapi_exception\u001b[0;34m(self, e, statement, parameters, cursor, context)\u001b[0m\n\u001b[1;32m   1471\u001b[0m                 \u001b[0mutil\u001b[0m\u001b[0;34m.\u001b[0m\u001b[0mraise_from_cause\u001b[0m\u001b[0;34m(\u001b[0m\u001b[0mnewraise\u001b[0m\u001b[0;34m,\u001b[0m \u001b[0mexc_info\u001b[0m\u001b[0;34m)\u001b[0m\u001b[0;34m\u001b[0m\u001b[0;34m\u001b[0m\u001b[0m\n\u001b[1;32m   1472\u001b[0m             \u001b[0;32melif\u001b[0m \u001b[0mshould_wrap\u001b[0m\u001b[0;34m:\u001b[0m\u001b[0;34m\u001b[0m\u001b[0;34m\u001b[0m\u001b[0m\n\u001b[0;32m-> 1473\u001b[0;31m                 \u001b[0mutil\u001b[0m\u001b[0;34m.\u001b[0m\u001b[0mraise_from_cause\u001b[0m\u001b[0;34m(\u001b[0m\u001b[0msqlalchemy_exception\u001b[0m\u001b[0;34m,\u001b[0m \u001b[0mexc_info\u001b[0m\u001b[0;34m)\u001b[0m\u001b[0;34m\u001b[0m\u001b[0;34m\u001b[0m\u001b[0m\n\u001b[0m\u001b[1;32m   1474\u001b[0m             \u001b[0;32melse\u001b[0m\u001b[0;34m:\u001b[0m\u001b[0;34m\u001b[0m\u001b[0;34m\u001b[0m\u001b[0m\n\u001b[1;32m   1475\u001b[0m                 \u001b[0mutil\u001b[0m\u001b[0;34m.\u001b[0m\u001b[0mreraise\u001b[0m\u001b[0;34m(\u001b[0m\u001b[0;34m*\u001b[0m\u001b[0mexc_info\u001b[0m\u001b[0;34m)\u001b[0m\u001b[0;34m\u001b[0m\u001b[0;34m\u001b[0m\u001b[0m\n",
            "\u001b[0;32m/usr/local/lib/python3.6/dist-packages/sqlalchemy/util/compat.py\u001b[0m in \u001b[0;36mraise_from_cause\u001b[0;34m(exception, exc_info)\u001b[0m\n\u001b[1;32m    396\u001b[0m     \u001b[0mexc_type\u001b[0m\u001b[0;34m,\u001b[0m \u001b[0mexc_value\u001b[0m\u001b[0;34m,\u001b[0m \u001b[0mexc_tb\u001b[0m \u001b[0;34m=\u001b[0m \u001b[0mexc_info\u001b[0m\u001b[0;34m\u001b[0m\u001b[0;34m\u001b[0m\u001b[0m\n\u001b[1;32m    397\u001b[0m     \u001b[0mcause\u001b[0m \u001b[0;34m=\u001b[0m \u001b[0mexc_value\u001b[0m \u001b[0;32mif\u001b[0m \u001b[0mexc_value\u001b[0m \u001b[0;32mis\u001b[0m \u001b[0;32mnot\u001b[0m \u001b[0mexception\u001b[0m \u001b[0;32melse\u001b[0m \u001b[0;32mNone\u001b[0m\u001b[0;34m\u001b[0m\u001b[0;34m\u001b[0m\u001b[0m\n\u001b[0;32m--> 398\u001b[0;31m     \u001b[0mreraise\u001b[0m\u001b[0;34m(\u001b[0m\u001b[0mtype\u001b[0m\u001b[0;34m(\u001b[0m\u001b[0mexception\u001b[0m\u001b[0;34m)\u001b[0m\u001b[0;34m,\u001b[0m \u001b[0mexception\u001b[0m\u001b[0;34m,\u001b[0m \u001b[0mtb\u001b[0m\u001b[0;34m=\u001b[0m\u001b[0mexc_tb\u001b[0m\u001b[0;34m,\u001b[0m \u001b[0mcause\u001b[0m\u001b[0;34m=\u001b[0m\u001b[0mcause\u001b[0m\u001b[0;34m)\u001b[0m\u001b[0;34m\u001b[0m\u001b[0;34m\u001b[0m\u001b[0m\n\u001b[0m\u001b[1;32m    399\u001b[0m \u001b[0;34m\u001b[0m\u001b[0m\n\u001b[1;32m    400\u001b[0m \u001b[0;34m\u001b[0m\u001b[0m\n",
            "\u001b[0;32m/usr/local/lib/python3.6/dist-packages/sqlalchemy/util/compat.py\u001b[0m in \u001b[0;36mreraise\u001b[0;34m(tp, value, tb, cause)\u001b[0m\n\u001b[1;32m    150\u001b[0m             \u001b[0mvalue\u001b[0m\u001b[0;34m.\u001b[0m\u001b[0m__cause__\u001b[0m \u001b[0;34m=\u001b[0m \u001b[0mcause\u001b[0m\u001b[0;34m\u001b[0m\u001b[0;34m\u001b[0m\u001b[0m\n\u001b[1;32m    151\u001b[0m         \u001b[0;32mif\u001b[0m \u001b[0mvalue\u001b[0m\u001b[0;34m.\u001b[0m\u001b[0m__traceback__\u001b[0m \u001b[0;32mis\u001b[0m \u001b[0;32mnot\u001b[0m \u001b[0mtb\u001b[0m\u001b[0;34m:\u001b[0m\u001b[0;34m\u001b[0m\u001b[0;34m\u001b[0m\u001b[0m\n\u001b[0;32m--> 152\u001b[0;31m             \u001b[0;32mraise\u001b[0m \u001b[0mvalue\u001b[0m\u001b[0;34m.\u001b[0m\u001b[0mwith_traceback\u001b[0m\u001b[0;34m(\u001b[0m\u001b[0mtb\u001b[0m\u001b[0;34m)\u001b[0m\u001b[0;34m\u001b[0m\u001b[0;34m\u001b[0m\u001b[0m\n\u001b[0m\u001b[1;32m    153\u001b[0m         \u001b[0;32mraise\u001b[0m \u001b[0mvalue\u001b[0m\u001b[0;34m\u001b[0m\u001b[0;34m\u001b[0m\u001b[0m\n\u001b[1;32m    154\u001b[0m \u001b[0;34m\u001b[0m\u001b[0m\n",
            "\u001b[0;32m/usr/local/lib/python3.6/dist-packages/sqlalchemy/engine/base.py\u001b[0m in \u001b[0;36m_execute_context\u001b[0;34m(self, dialect, constructor, statement, parameters, *args)\u001b[0m\n\u001b[1;32m   1247\u001b[0m                 \u001b[0;32mif\u001b[0m \u001b[0;32mnot\u001b[0m \u001b[0mevt_handled\u001b[0m\u001b[0;34m:\u001b[0m\u001b[0;34m\u001b[0m\u001b[0;34m\u001b[0m\u001b[0m\n\u001b[1;32m   1248\u001b[0m                     self.dialect.do_execute(\n\u001b[0;32m-> 1249\u001b[0;31m                         \u001b[0mcursor\u001b[0m\u001b[0;34m,\u001b[0m \u001b[0mstatement\u001b[0m\u001b[0;34m,\u001b[0m \u001b[0mparameters\u001b[0m\u001b[0;34m,\u001b[0m \u001b[0mcontext\u001b[0m\u001b[0;34m\u001b[0m\u001b[0;34m\u001b[0m\u001b[0m\n\u001b[0m\u001b[1;32m   1250\u001b[0m                     )\n\u001b[1;32m   1251\u001b[0m         \u001b[0;32mexcept\u001b[0m \u001b[0mBaseException\u001b[0m \u001b[0;32mas\u001b[0m \u001b[0me\u001b[0m\u001b[0;34m:\u001b[0m\u001b[0;34m\u001b[0m\u001b[0;34m\u001b[0m\u001b[0m\n",
            "\u001b[0;32m/usr/local/lib/python3.6/dist-packages/sqlalchemy/engine/default.py\u001b[0m in \u001b[0;36mdo_execute\u001b[0;34m(self, cursor, statement, parameters, context)\u001b[0m\n\u001b[1;32m    550\u001b[0m \u001b[0;34m\u001b[0m\u001b[0m\n\u001b[1;32m    551\u001b[0m     \u001b[0;32mdef\u001b[0m \u001b[0mdo_execute\u001b[0m\u001b[0;34m(\u001b[0m\u001b[0mself\u001b[0m\u001b[0;34m,\u001b[0m \u001b[0mcursor\u001b[0m\u001b[0;34m,\u001b[0m \u001b[0mstatement\u001b[0m\u001b[0;34m,\u001b[0m \u001b[0mparameters\u001b[0m\u001b[0;34m,\u001b[0m \u001b[0mcontext\u001b[0m\u001b[0;34m=\u001b[0m\u001b[0;32mNone\u001b[0m\u001b[0;34m)\u001b[0m\u001b[0;34m:\u001b[0m\u001b[0;34m\u001b[0m\u001b[0;34m\u001b[0m\u001b[0m\n\u001b[0;32m--> 552\u001b[0;31m         \u001b[0mcursor\u001b[0m\u001b[0;34m.\u001b[0m\u001b[0mexecute\u001b[0m\u001b[0;34m(\u001b[0m\u001b[0mstatement\u001b[0m\u001b[0;34m,\u001b[0m \u001b[0mparameters\u001b[0m\u001b[0;34m)\u001b[0m\u001b[0;34m\u001b[0m\u001b[0;34m\u001b[0m\u001b[0m\n\u001b[0m\u001b[1;32m    553\u001b[0m \u001b[0;34m\u001b[0m\u001b[0m\n\u001b[1;32m    554\u001b[0m     \u001b[0;32mdef\u001b[0m \u001b[0mdo_execute_no_params\u001b[0m\u001b[0;34m(\u001b[0m\u001b[0mself\u001b[0m\u001b[0;34m,\u001b[0m \u001b[0mcursor\u001b[0m\u001b[0;34m,\u001b[0m \u001b[0mstatement\u001b[0m\u001b[0;34m,\u001b[0m \u001b[0mcontext\u001b[0m\u001b[0;34m=\u001b[0m\u001b[0;32mNone\u001b[0m\u001b[0;34m)\u001b[0m\u001b[0;34m:\u001b[0m\u001b[0;34m\u001b[0m\u001b[0;34m\u001b[0m\u001b[0m\n",
            "\u001b[0;31mIntegrityError\u001b[0m: (sqlite3.IntegrityError) UNIQUE constraint failed: filmsUnique.title\n[SQL: INSERT INTO \"filmsUnique\" (title, year, director) VALUES (?, ?, ?)]\n[parameters: ('Seven', 1995, 'David Fincher')]\n(Background on this error at: http://sqlalche.me/e/gkpj)"
          ]
        }
      ]
    },
    {
      "cell_type": "markdown",
      "metadata": {
        "id": "0TF37ONspR3w",
        "colab_type": "text"
      },
      "source": [
        "But what happen if Seven director try to make a remake of its film?"
      ]
    },
    {
      "cell_type": "code",
      "metadata": {
        "id": "J1jJJy_SpR3y",
        "colab_type": "code",
        "colab": {
          "base_uri": "https://localhost:8080/",
          "height": 411
        },
        "outputId": "bc4c8210-4d5e-4b83-f68b-b56b81224b21"
      },
      "source": [
        "new_film3 = FilmUnique(title='Seven', year=2007, director='David Fincher')\n",
        "session.add(new_film3)\n",
        "session.commit()"
      ],
      "execution_count": 33,
      "outputs": [
        {
          "output_type": "error",
          "ename": "InvalidRequestError",
          "evalue": "ignored",
          "traceback": [
            "\u001b[0;31m---------------------------------------------------------------------------\u001b[0m",
            "\u001b[0;31mInvalidRequestError\u001b[0m                       Traceback (most recent call last)",
            "\u001b[0;32m<ipython-input-33-f8bbd0985f81>\u001b[0m in \u001b[0;36m<module>\u001b[0;34m()\u001b[0m\n\u001b[1;32m      1\u001b[0m \u001b[0mnew_film3\u001b[0m \u001b[0;34m=\u001b[0m \u001b[0mFilmUnique\u001b[0m\u001b[0;34m(\u001b[0m\u001b[0mtitle\u001b[0m\u001b[0;34m=\u001b[0m\u001b[0;34m'Seven'\u001b[0m\u001b[0;34m,\u001b[0m \u001b[0myear\u001b[0m\u001b[0;34m=\u001b[0m\u001b[0;36m2007\u001b[0m\u001b[0;34m,\u001b[0m \u001b[0mdirector\u001b[0m\u001b[0;34m=\u001b[0m\u001b[0;34m'David Fincher'\u001b[0m\u001b[0;34m)\u001b[0m\u001b[0;34m\u001b[0m\u001b[0;34m\u001b[0m\u001b[0m\n\u001b[1;32m      2\u001b[0m \u001b[0msession\u001b[0m\u001b[0;34m.\u001b[0m\u001b[0madd\u001b[0m\u001b[0;34m(\u001b[0m\u001b[0mnew_film3\u001b[0m\u001b[0;34m)\u001b[0m\u001b[0;34m\u001b[0m\u001b[0;34m\u001b[0m\u001b[0m\n\u001b[0;32m----> 3\u001b[0;31m \u001b[0msession\u001b[0m\u001b[0;34m.\u001b[0m\u001b[0mcommit\u001b[0m\u001b[0;34m(\u001b[0m\u001b[0;34m)\u001b[0m\u001b[0;34m\u001b[0m\u001b[0;34m\u001b[0m\u001b[0m\n\u001b[0m",
            "\u001b[0;32m/usr/local/lib/python3.6/dist-packages/sqlalchemy/orm/session.py\u001b[0m in \u001b[0;36mcommit\u001b[0;34m(self)\u001b[0m\n\u001b[1;32m   1025\u001b[0m                 \u001b[0;32mraise\u001b[0m \u001b[0msa_exc\u001b[0m\u001b[0;34m.\u001b[0m\u001b[0mInvalidRequestError\u001b[0m\u001b[0;34m(\u001b[0m\u001b[0;34m\"No transaction is begun.\"\u001b[0m\u001b[0;34m)\u001b[0m\u001b[0;34m\u001b[0m\u001b[0;34m\u001b[0m\u001b[0m\n\u001b[1;32m   1026\u001b[0m \u001b[0;34m\u001b[0m\u001b[0m\n\u001b[0;32m-> 1027\u001b[0;31m         \u001b[0mself\u001b[0m\u001b[0;34m.\u001b[0m\u001b[0mtransaction\u001b[0m\u001b[0;34m.\u001b[0m\u001b[0mcommit\u001b[0m\u001b[0;34m(\u001b[0m\u001b[0;34m)\u001b[0m\u001b[0;34m\u001b[0m\u001b[0;34m\u001b[0m\u001b[0m\n\u001b[0m\u001b[1;32m   1028\u001b[0m \u001b[0;34m\u001b[0m\u001b[0m\n\u001b[1;32m   1029\u001b[0m     \u001b[0;32mdef\u001b[0m \u001b[0mprepare\u001b[0m\u001b[0;34m(\u001b[0m\u001b[0mself\u001b[0m\u001b[0;34m)\u001b[0m\u001b[0;34m:\u001b[0m\u001b[0;34m\u001b[0m\u001b[0;34m\u001b[0m\u001b[0m\n",
            "\u001b[0;32m/usr/local/lib/python3.6/dist-packages/sqlalchemy/orm/session.py\u001b[0m in \u001b[0;36mcommit\u001b[0;34m(self)\u001b[0m\n\u001b[1;32m    490\u001b[0m \u001b[0;34m\u001b[0m\u001b[0m\n\u001b[1;32m    491\u001b[0m     \u001b[0;32mdef\u001b[0m \u001b[0mcommit\u001b[0m\u001b[0;34m(\u001b[0m\u001b[0mself\u001b[0m\u001b[0;34m)\u001b[0m\u001b[0;34m:\u001b[0m\u001b[0;34m\u001b[0m\u001b[0;34m\u001b[0m\u001b[0m\n\u001b[0;32m--> 492\u001b[0;31m         \u001b[0mself\u001b[0m\u001b[0;34m.\u001b[0m\u001b[0m_assert_active\u001b[0m\u001b[0;34m(\u001b[0m\u001b[0mprepared_ok\u001b[0m\u001b[0;34m=\u001b[0m\u001b[0;32mTrue\u001b[0m\u001b[0;34m)\u001b[0m\u001b[0;34m\u001b[0m\u001b[0;34m\u001b[0m\u001b[0m\n\u001b[0m\u001b[1;32m    493\u001b[0m         \u001b[0;32mif\u001b[0m \u001b[0mself\u001b[0m\u001b[0;34m.\u001b[0m\u001b[0m_state\u001b[0m \u001b[0;32mis\u001b[0m \u001b[0;32mnot\u001b[0m \u001b[0mPREPARED\u001b[0m\u001b[0;34m:\u001b[0m\u001b[0;34m\u001b[0m\u001b[0;34m\u001b[0m\u001b[0m\n\u001b[1;32m    494\u001b[0m             \u001b[0mself\u001b[0m\u001b[0;34m.\u001b[0m\u001b[0m_prepare_impl\u001b[0m\u001b[0;34m(\u001b[0m\u001b[0;34m)\u001b[0m\u001b[0;34m\u001b[0m\u001b[0;34m\u001b[0m\u001b[0m\n",
            "\u001b[0;32m/usr/local/lib/python3.6/dist-packages/sqlalchemy/orm/session.py\u001b[0m in \u001b[0;36m_assert_active\u001b[0;34m(self, prepared_ok, rollback_ok, deactive_ok, closed_msg)\u001b[0m\n\u001b[1;32m    293\u001b[0m                         \u001b[0;34m\" Original exception was: %s\"\u001b[0m\u001b[0;34m\u001b[0m\u001b[0;34m\u001b[0m\u001b[0m\n\u001b[1;32m    294\u001b[0m                         \u001b[0;34m%\u001b[0m \u001b[0mself\u001b[0m\u001b[0;34m.\u001b[0m\u001b[0m_rollback_exception\u001b[0m\u001b[0;34m,\u001b[0m\u001b[0;34m\u001b[0m\u001b[0;34m\u001b[0m\u001b[0m\n\u001b[0;32m--> 295\u001b[0;31m                         \u001b[0mcode\u001b[0m\u001b[0;34m=\u001b[0m\u001b[0;34m\"7s2a\"\u001b[0m\u001b[0;34m,\u001b[0m\u001b[0;34m\u001b[0m\u001b[0;34m\u001b[0m\u001b[0m\n\u001b[0m\u001b[1;32m    296\u001b[0m                     )\n\u001b[1;32m    297\u001b[0m                 \u001b[0;32melif\u001b[0m \u001b[0;32mnot\u001b[0m \u001b[0mdeactive_ok\u001b[0m\u001b[0;34m:\u001b[0m\u001b[0;34m\u001b[0m\u001b[0;34m\u001b[0m\u001b[0m\n",
            "\u001b[0;31mInvalidRequestError\u001b[0m: This Session's transaction has been rolled back due to a previous exception during flush. To begin a new transaction with this Session, first issue Session.rollback(). Original exception was: (sqlite3.IntegrityError) UNIQUE constraint failed: filmsUnique.title\n[SQL: INSERT INTO \"filmsUnique\" (title, year, director) VALUES (?, ?, ?)]\n[parameters: ('Seven', 1995, 'David Fincher')]\n(Background on this error at: http://sqlalche.me/e/gkpj) (Background on this error at: http://sqlalche.me/e/7s2a)"
          ]
        }
      ]
    },
    {
      "cell_type": "markdown",
      "metadata": {
        "id": "hpULOUIypR32",
        "colab_type": "text"
      },
      "source": [
        "We get the same error!!!"
      ]
    },
    {
      "cell_type": "code",
      "metadata": {
        "id": "PvBEETC8pR39",
        "colab_type": "code",
        "colab": {
          "base_uri": "https://localhost:8080/",
          "height": 51
        },
        "outputId": "a6b61b13-8f74-4e00-eaef-c50d65b403ad"
      },
      "source": [
        "session.rollback()"
      ],
      "execution_count": 34,
      "outputs": [
        {
          "output_type": "stream",
          "text": [
            "/usr/local/lib/python3.6/dist-packages/sqlalchemy/orm/session.py:552: SAWarning: Session's state has been changed on a non-active transaction - this state will be discarded.\n",
            "  \"Session's state has been changed on \"\n"
          ],
          "name": "stderr"
        }
      ]
    },
    {
      "cell_type": "markdown",
      "metadata": {
        "id": "IHJK0SF1pR4A",
        "colab_type": "text"
      },
      "source": [
        "#### 2.1.3 Defining our rules"
      ]
    },
    {
      "cell_type": "code",
      "metadata": {
        "id": "7kE3uo-QpR4A",
        "colab_type": "code",
        "colab": {
          "base_uri": "https://localhost:8080/",
          "height": 51
        },
        "outputId": "299118ec-8320-4e4a-adc5-2aacf206072f"
      },
      "source": [
        "session.query(Film).filter(Film.title == 'Seven').all()"
      ],
      "execution_count": 35,
      "outputs": [
        {
          "output_type": "execute_result",
          "data": {
            "text/plain": [
              "[<Film(title='Seven', year='1995', director='David Fincher')>,\n",
              " <Film(title='Seven', year='1995', director='David Fincher')>]"
            ]
          },
          "metadata": {
            "tags": []
          },
          "execution_count": 35
        }
      ]
    },
    {
      "cell_type": "code",
      "metadata": {
        "id": "oRWM_VbmpR4D",
        "colab_type": "code",
        "colab": {
          "base_uri": "https://localhost:8080/",
          "height": 34
        },
        "outputId": "5f567f3e-3de4-405d-efe7-f261c90f0519"
      },
      "source": [
        "session.query(Film).filter(Film.title == 'Seven').first()"
      ],
      "execution_count": 36,
      "outputs": [
        {
          "output_type": "execute_result",
          "data": {
            "text/plain": [
              "<Film(title='Seven', year='1995', director='David Fincher')>"
            ]
          },
          "metadata": {
            "tags": []
          },
          "execution_count": 36
        }
      ]
    },
    {
      "cell_type": "code",
      "metadata": {
        "id": "_zrlaiVYpR4F",
        "colab_type": "code",
        "colab": {
          "base_uri": "https://localhost:8080/",
          "height": 34
        },
        "outputId": "5203a66f-2fca-4603-a87e-f7bc374a653a"
      },
      "source": [
        "session.query(Film).filter(Film.title == 'Seven').count()"
      ],
      "execution_count": 37,
      "outputs": [
        {
          "output_type": "execute_result",
          "data": {
            "text/plain": [
              "2"
            ]
          },
          "metadata": {
            "tags": []
          },
          "execution_count": 37
        }
      ]
    },
    {
      "cell_type": "code",
      "metadata": {
        "id": "wqF70Yl-pR4I",
        "colab_type": "code",
        "colab": {
          "base_uri": "https://localhost:8080/",
          "height": 34
        },
        "outputId": "9efa1add-1eab-4827-f154-886f4d19563c"
      },
      "source": [
        "from sqlalchemy import exists\n",
        "\n",
        "session.query(exists().where(Film.title == 'Seven')).scalar()"
      ],
      "execution_count": 38,
      "outputs": [
        {
          "output_type": "execute_result",
          "data": {
            "text/plain": [
              "True"
            ]
          },
          "metadata": {
            "tags": []
          },
          "execution_count": 38
        }
      ]
    },
    {
      "cell_type": "code",
      "metadata": {
        "id": "1gW7KmGlpR4N",
        "colab_type": "code",
        "colab": {
          "base_uri": "https://localhost:8080/",
          "height": 34
        },
        "outputId": "54743f21-a776-4683-8720-cb39bb2a6f1e"
      },
      "source": [
        "session.query(exists().where(Film.title == \"Seven\").where(Film.year == 1995)).scalar()"
      ],
      "execution_count": 39,
      "outputs": [
        {
          "output_type": "execute_result",
          "data": {
            "text/plain": [
              "True"
            ]
          },
          "metadata": {
            "tags": []
          },
          "execution_count": 39
        }
      ]
    },
    {
      "cell_type": "code",
      "metadata": {
        "id": "NZSZ-z71pR4S",
        "colab_type": "code",
        "colab": {
          "base_uri": "https://localhost:8080/",
          "height": 34
        },
        "outputId": "3dbd8f30-f701-48d0-ac85-0e9d49905386"
      },
      "source": [
        "if not session.query(exists().where(Film.title == \"Seven\").where(Film.year == 1995)).scalar():\n",
        "    new_film = Film(title='Seven', year=1995, director='David Fincher')\n",
        "    session.add(new_film)\n",
        "    session.commit()\n",
        "\n",
        "else:\n",
        "    print(\"You are trying to add information that already is in your database\")"
      ],
      "execution_count": 40,
      "outputs": [
        {
          "output_type": "stream",
          "text": [
            "You are trying to add information that already is in your database\n"
          ],
          "name": "stdout"
        }
      ]
    },
    {
      "cell_type": "code",
      "metadata": {
        "id": "OaCOst08pR4V",
        "colab_type": "code",
        "colab": {}
      },
      "source": [
        "session.close()"
      ],
      "execution_count": 0,
      "outputs": []
    },
    {
      "cell_type": "markdown",
      "metadata": {
        "id": "Dg-IPwkUpR4X",
        "colab_type": "text"
      },
      "source": [
        "### 2.2 Adding multiple rows"
      ]
    },
    {
      "cell_type": "code",
      "metadata": {
        "id": "eumwAue2pR4Y",
        "colab_type": "code",
        "colab": {}
      },
      "source": [
        "from sqlalchemy import Column, Integer, String, Float\n",
        "\n",
        "Base = declarative_base()\n",
        "\n",
        "class Student(Base):\n",
        "    \n",
        "    __tablename__ = 'students'\n",
        "    \n",
        "    id = Column(Integer, primary_key=True)\n",
        "    name = Column(String)\n",
        "    surname = Column(String)\n",
        "    age = Column(Integer)\n",
        "    avg_mark = Column(Float)\n",
        "    group_code = Column(String)\n",
        "\n",
        "    \n",
        "    def __repr__(self):\n",
        "        return \"<Student(name= '%s',surname='%s', age='%d', avg_mark='%f',group_code='%s')>\" % (self.name, self.surname, self.age, self.avg_mark,self.group_code)\n",
        "    \n",
        "Base.metadata.create_all(engine)"
      ],
      "execution_count": 0,
      "outputs": []
    },
    {
      "cell_type": "code",
      "metadata": {
        "id": "zqAPCDdkpR4a",
        "colab_type": "code",
        "colab": {}
      },
      "source": [
        "objects = [Student(name=\"Maria\",surname=\"Garcia\", age=18, avg_mark=7.89, group_code = '2D2019'), \n",
        "           Student(name=\"Carla\",surname=\"Garcia\", age=23, avg_mark=6.25, group_code = '2D2019'),\n",
        "           Student(name=\"Carlos\",surname=\"Martinez\", age=22, avg_mark=5.80, group_code = '2D2019'),\n",
        "           Student(name=\"Marcos\",surname=\"Perez\", age=19, avg_mark=6.50, group_code = '2D2019'),\n",
        "           Student(name=\"Pablo\",surname=\"Hernandez\", age=21, avg_mark=6.85, group_code = '2D2019'),\n",
        "           Student(name=\"Victor\",surname=\"Sola\", age=18, avg_mark=7.25, group_code = '2D2019'),\n",
        "           Student(name=\"Maria\",surname=\"Perez\", age=18, avg_mark=7.10, group_code = '1D2019'),\n",
        "           Student(name=\"Martina\",surname=\"Galo\", age=19, avg_mark=6.75, group_code = '1D2019'),\n",
        "           Student(name=\"Pedro\",surname=\"Marmol\", age=21, avg_mark=5.80, group_code = '1D2019'),\n",
        "           Student(name=\"Pablo\",surname=\"Mena\", age=20, avg_mark=7.00, group_code = '1D2019'),\n",
        "           Student(name=\"Vanesa\",surname=\"Escalera\", age=19, avg_mark=8.20, group_code = '1D2019')\n",
        "          ]\n",
        "\n",
        "Session = sessionmaker(bind=engine)\n",
        "session = Session()\n",
        "\n",
        "session.add_all(objects)\n",
        "\n",
        "session.commit()"
      ],
      "execution_count": 0,
      "outputs": []
    },
    {
      "cell_type": "markdown",
      "metadata": {
        "id": "6zAEJQ7HpR4d",
        "colab_type": "text"
      },
      "source": [
        "### 3.Geting information from database"
      ]
    },
    {
      "cell_type": "code",
      "metadata": {
        "id": "t5bvv20PpR4d",
        "colab_type": "code",
        "colab": {
          "base_uri": "https://localhost:8080/",
          "height": 204
        },
        "outputId": "ff429d3e-f11b-4846-aa3a-363e09721966"
      },
      "source": [
        "session.query(Student.name, Student.surname,Student.avg_mark).all()"
      ],
      "execution_count": 44,
      "outputs": [
        {
          "output_type": "execute_result",
          "data": {
            "text/plain": [
              "[('Maria', 'Garcia', 7.89),\n",
              " ('Carla', 'Garcia', 6.25),\n",
              " ('Carlos', 'Martinez', 5.8),\n",
              " ('Marcos', 'Perez', 6.5),\n",
              " ('Pablo', 'Hernandez', 6.85),\n",
              " ('Victor', 'Sola', 7.25),\n",
              " ('Maria', 'Perez', 7.1),\n",
              " ('Martina', 'Galo', 6.75),\n",
              " ('Pedro', 'Marmol', 5.8),\n",
              " ('Pablo', 'Mena', 7.0),\n",
              " ('Vanesa', 'Escalera', 8.2)]"
            ]
          },
          "metadata": {
            "tags": []
          },
          "execution_count": 44
        }
      ]
    },
    {
      "cell_type": "markdown",
      "metadata": {
        "id": "Jpri-Bc5pR4h",
        "colab_type": "text"
      },
      "source": [
        "### 3.1 Order_by (ascending by default)"
      ]
    },
    {
      "cell_type": "code",
      "metadata": {
        "id": "tt9J9wiBpR4i",
        "colab_type": "code",
        "colab": {
          "base_uri": "https://localhost:8080/",
          "height": 204
        },
        "outputId": "90f5133a-2c68-468e-af9e-b30b76cbef9f"
      },
      "source": [
        "session.query(Student).order_by(Student.avg_mark).all()"
      ],
      "execution_count": 45,
      "outputs": [
        {
          "output_type": "execute_result",
          "data": {
            "text/plain": [
              "[<Student(name= 'Carlos',surname='Martinez', age='22', avg_mark='5.800000',group_code='2D2019')>,\n",
              " <Student(name= 'Pedro',surname='Marmol', age='21', avg_mark='5.800000',group_code='1D2019')>,\n",
              " <Student(name= 'Carla',surname='Garcia', age='23', avg_mark='6.250000',group_code='2D2019')>,\n",
              " <Student(name= 'Marcos',surname='Perez', age='19', avg_mark='6.500000',group_code='2D2019')>,\n",
              " <Student(name= 'Martina',surname='Galo', age='19', avg_mark='6.750000',group_code='1D2019')>,\n",
              " <Student(name= 'Pablo',surname='Hernandez', age='21', avg_mark='6.850000',group_code='2D2019')>,\n",
              " <Student(name= 'Pablo',surname='Mena', age='20', avg_mark='7.000000',group_code='1D2019')>,\n",
              " <Student(name= 'Maria',surname='Perez', age='18', avg_mark='7.100000',group_code='1D2019')>,\n",
              " <Student(name= 'Victor',surname='Sola', age='18', avg_mark='7.250000',group_code='2D2019')>,\n",
              " <Student(name= 'Maria',surname='Garcia', age='18', avg_mark='7.890000',group_code='2D2019')>,\n",
              " <Student(name= 'Vanesa',surname='Escalera', age='19', avg_mark='8.200000',group_code='1D2019')>]"
            ]
          },
          "metadata": {
            "tags": []
          },
          "execution_count": 45
        }
      ]
    },
    {
      "cell_type": "code",
      "metadata": {
        "id": "Na05cz-ApR4l",
        "colab_type": "code",
        "colab": {
          "base_uri": "https://localhost:8080/",
          "height": 204
        },
        "outputId": "1bcc8fc3-efc0-49b3-e934-6cebd4309b43"
      },
      "source": [
        "session.query(Student).order_by(Student.avg_mark.desc()).all()"
      ],
      "execution_count": 46,
      "outputs": [
        {
          "output_type": "execute_result",
          "data": {
            "text/plain": [
              "[<Student(name= 'Vanesa',surname='Escalera', age='19', avg_mark='8.200000',group_code='1D2019')>,\n",
              " <Student(name= 'Maria',surname='Garcia', age='18', avg_mark='7.890000',group_code='2D2019')>,\n",
              " <Student(name= 'Victor',surname='Sola', age='18', avg_mark='7.250000',group_code='2D2019')>,\n",
              " <Student(name= 'Maria',surname='Perez', age='18', avg_mark='7.100000',group_code='1D2019')>,\n",
              " <Student(name= 'Pablo',surname='Mena', age='20', avg_mark='7.000000',group_code='1D2019')>,\n",
              " <Student(name= 'Pablo',surname='Hernandez', age='21', avg_mark='6.850000',group_code='2D2019')>,\n",
              " <Student(name= 'Martina',surname='Galo', age='19', avg_mark='6.750000',group_code='1D2019')>,\n",
              " <Student(name= 'Marcos',surname='Perez', age='19', avg_mark='6.500000',group_code='2D2019')>,\n",
              " <Student(name= 'Carla',surname='Garcia', age='23', avg_mark='6.250000',group_code='2D2019')>,\n",
              " <Student(name= 'Carlos',surname='Martinez', age='22', avg_mark='5.800000',group_code='2D2019')>,\n",
              " <Student(name= 'Pedro',surname='Marmol', age='21', avg_mark='5.800000',group_code='1D2019')>]"
            ]
          },
          "metadata": {
            "tags": []
          },
          "execution_count": 46
        }
      ]
    },
    {
      "cell_type": "code",
      "metadata": {
        "id": "OVRlLLPPpR4n",
        "colab_type": "code",
        "colab": {
          "base_uri": "https://localhost:8080/",
          "height": 68
        },
        "outputId": "81971d05-8c8c-4fcc-cdc0-8d43df8f004d"
      },
      "source": [
        "session.query(Student).order_by(Student.avg_mark.desc())[:3]"
      ],
      "execution_count": 47,
      "outputs": [
        {
          "output_type": "execute_result",
          "data": {
            "text/plain": [
              "[<Student(name= 'Vanesa',surname='Escalera', age='19', avg_mark='8.200000',group_code='1D2019')>,\n",
              " <Student(name= 'Maria',surname='Garcia', age='18', avg_mark='7.890000',group_code='2D2019')>,\n",
              " <Student(name= 'Victor',surname='Sola', age='18', avg_mark='7.250000',group_code='2D2019')>]"
            ]
          },
          "metadata": {
            "tags": []
          },
          "execution_count": 47
        }
      ]
    },
    {
      "cell_type": "markdown",
      "metadata": {
        "id": "IOM70vOepR4p",
        "colab_type": "text"
      },
      "source": [
        "### 3.2 Filter by"
      ]
    },
    {
      "cell_type": "code",
      "metadata": {
        "id": "2KJPLUIupR4q",
        "colab_type": "code",
        "colab": {
          "base_uri": "https://localhost:8080/",
          "height": 102
        },
        "outputId": "e14331ad-785a-48b5-aa8b-0314dd46a51a"
      },
      "source": [
        "session.query(Student.name,Student.surname,Student.group_code).filter_by(group_code='1D2019').all()"
      ],
      "execution_count": 48,
      "outputs": [
        {
          "output_type": "execute_result",
          "data": {
            "text/plain": [
              "[('Maria', 'Perez', '1D2019'),\n",
              " ('Martina', 'Galo', '1D2019'),\n",
              " ('Pedro', 'Marmol', '1D2019'),\n",
              " ('Pablo', 'Mena', '1D2019'),\n",
              " ('Vanesa', 'Escalera', '1D2019')]"
            ]
          },
          "metadata": {
            "tags": []
          },
          "execution_count": 48
        }
      ]
    },
    {
      "cell_type": "code",
      "metadata": {
        "id": "2d_DHkNjpR4u",
        "colab_type": "code",
        "colab": {
          "base_uri": "https://localhost:8080/",
          "height": 34
        },
        "outputId": "d2e64da7-6852-4ca4-d3b6-5f7e786c55a4"
      },
      "source": [
        "session.query(Student).filter_by(age=20).all()"
      ],
      "execution_count": 49,
      "outputs": [
        {
          "output_type": "execute_result",
          "data": {
            "text/plain": [
              "[<Student(name= 'Pablo',surname='Mena', age='20', avg_mark='7.000000',group_code='1D2019')>]"
            ]
          },
          "metadata": {
            "tags": []
          },
          "execution_count": 49
        }
      ]
    },
    {
      "cell_type": "markdown",
      "metadata": {
        "id": "It7YT0yQpR4w",
        "colab_type": "text"
      },
      "source": [
        "We also can concatenate filters:"
      ]
    },
    {
      "cell_type": "code",
      "metadata": {
        "id": "Ot_0uGK-pR4w",
        "colab_type": "code",
        "colab": {
          "base_uri": "https://localhost:8080/",
          "height": 51
        },
        "outputId": "315a73cb-46ad-426a-fa7a-35374ef9bd9f"
      },
      "source": [
        "session.query(Student).filter_by(surname='Garcia').filter_by(group_code='2D2019').all()"
      ],
      "execution_count": 50,
      "outputs": [
        {
          "output_type": "execute_result",
          "data": {
            "text/plain": [
              "[<Student(name= 'Maria',surname='Garcia', age='18', avg_mark='7.890000',group_code='2D2019')>,\n",
              " <Student(name= 'Carla',surname='Garcia', age='23', avg_mark='6.250000',group_code='2D2019')>]"
            ]
          },
          "metadata": {
            "tags": []
          },
          "execution_count": 50
        }
      ]
    },
    {
      "cell_type": "markdown",
      "metadata": {
        "id": "HR-6hScbpR43",
        "colab_type": "text"
      },
      "source": [
        "### 3.3 Filter"
      ]
    },
    {
      "cell_type": "code",
      "metadata": {
        "id": "ADjSWM5mpR43",
        "colab_type": "code",
        "colab": {
          "base_uri": "https://localhost:8080/",
          "height": 51
        },
        "outputId": "9c209e4f-ca38-4b8d-8abc-ca0603fa5140"
      },
      "source": [
        "session.query(Student).filter(Student.avg_mark>=7).filter_by(group_code='2D2019').all()"
      ],
      "execution_count": 51,
      "outputs": [
        {
          "output_type": "execute_result",
          "data": {
            "text/plain": [
              "[<Student(name= 'Maria',surname='Garcia', age='18', avg_mark='7.890000',group_code='2D2019')>,\n",
              " <Student(name= 'Victor',surname='Sola', age='18', avg_mark='7.250000',group_code='2D2019')>]"
            ]
          },
          "metadata": {
            "tags": []
          },
          "execution_count": 51
        }
      ]
    },
    {
      "cell_type": "markdown",
      "metadata": {
        "id": "hPfzsbALpR46",
        "colab_type": "text"
      },
      "source": [
        "### 3.4 Group by + func"
      ]
    },
    {
      "cell_type": "code",
      "metadata": {
        "id": "xHIXVOyXpR47",
        "colab_type": "code",
        "colab": {
          "base_uri": "https://localhost:8080/",
          "height": 34
        },
        "outputId": "af37b69d-2925-40ee-f07c-843b5bdc659d"
      },
      "source": [
        "from sqlalchemy import func\n",
        "\n",
        "session.query(Student.group_code,func.avg(Student.avg_mark)).group_by(Student.group_code).all()"
      ],
      "execution_count": 52,
      "outputs": [
        {
          "output_type": "execute_result",
          "data": {
            "text/plain": [
              "[('1D2019', 6.969999999999999), ('2D2019', 6.756666666666667)]"
            ]
          },
          "metadata": {
            "tags": []
          },
          "execution_count": 52
        }
      ]
    },
    {
      "cell_type": "markdown",
      "metadata": {
        "id": "8CjXFxdMpR49",
        "colab_type": "text"
      },
      "source": [
        "### PRACTICE TIME!!!"
      ]
    },
    {
      "cell_type": "markdown",
      "metadata": {
        "id": "cVacGKqnpR4-",
        "colab_type": "text"
      },
      "source": [
        "### 4. Relations between Tables"
      ]
    },
    {
      "cell_type": "code",
      "metadata": {
        "id": "Ne29O0BipR4-",
        "colab_type": "code",
        "colab": {}
      },
      "source": [
        "engine = create_engine('sqlite:///films.db')"
      ],
      "execution_count": 0,
      "outputs": []
    },
    {
      "cell_type": "markdown",
      "metadata": {
        "id": "IlEKzzS_pR5B",
        "colab_type": "text"
      },
      "source": [
        "In this case we want to link film with its main actors and we have to configure a ONE-TO-MANY relationship. Look at this code example about the new database schema: "
      ]
    },
    {
      "cell_type": "code",
      "metadata": {
        "id": "vXgLpMGwpR5C",
        "colab_type": "code",
        "colab": {}
      },
      "source": [
        "from sqlalchemy import ForeignKey\n",
        "from sqlalchemy.orm import relationship\n",
        "\n",
        "Base = declarative_base()\n",
        "\n",
        "class Director(Base):\n",
        "        \n",
        "    __tablename__ = 'director'\n",
        "    \n",
        "    id = Column(Integer, primary_key=True)\n",
        "    name = Column(String)\n",
        "    birth_year = Column(Integer)\n",
        "    country = Column(String)\n",
        "    films = relationship(\"Film\")\n",
        "    \n",
        "    def __repr__(self):\n",
        "        return \"<Director(name='%s', birth_year='%d', country='%s')>\" % (self.name, self.birth_year, self.country)\n",
        "\n",
        "class Film(Base):\n",
        "    \n",
        "    __tablename__ = 'film'\n",
        "    \n",
        "    id = Column(Integer, primary_key=True)\n",
        "    title = Column(String)\n",
        "    year = Column(Integer)\n",
        "    director_id = Column(Integer,ForeignKey('director.id'))\n",
        "    \n",
        "    def __repr__(self):\n",
        "        return \"<Film(title='%s', year='%d')>\" % (self.title, self.year)"
      ],
      "execution_count": 0,
      "outputs": []
    },
    {
      "cell_type": "code",
      "metadata": {
        "id": "qnv-rIdfpR5H",
        "colab_type": "code",
        "colab": {}
      },
      "source": [
        "Base.metadata.create_all(engine)"
      ],
      "execution_count": 0,
      "outputs": []
    },
    {
      "cell_type": "markdown",
      "metadata": {
        "id": "P5LYc0TPpR5M",
        "colab_type": "text"
      },
      "source": [
        "To get more information about how to configure different relations between tables take a look to official documentation: https://docs.sqlalchemy.org/en/13/orm/relationships.html"
      ]
    },
    {
      "cell_type": "code",
      "metadata": {
        "id": "LVUXJ4-spR5N",
        "colab_type": "code",
        "colab": {}
      },
      "source": [
        "#create directors\n",
        "director1 = Director(name = 'David Fincher', birth_year = 1956, country = 'Israel')\n",
        "director2 = Director(name = 'Steven Spielberg', birth_year = 1946, country = 'USA')\n",
        "\n",
        "#create movies\n",
        "film1 = Film(title='Seven', year=1995) #-> Fincher\n",
        "film2 = Film(title='Jaws', year=1975) #-> Spielberg\n",
        "film3 = Film(title='Jurassic Park', year=1993) #-> Spielberg\n",
        "\n",
        "#create Session\n",
        "Session = sessionmaker(bind=engine)\n",
        "session = Session()\n",
        "\n",
        "#add movies to directors\n",
        "director1.films = [film1]\n",
        "director2.films = [film2]\n",
        "\n",
        "director2.films.append(film3)\n",
        "\n",
        "#persist data\n",
        "session.add(director1)\n",
        "session.add(director2)\n",
        "\n",
        "#commit and close session\n",
        "session.commit()\n",
        "session.close()"
      ],
      "execution_count": 0,
      "outputs": []
    },
    {
      "cell_type": "markdown",
      "metadata": {
        "id": "CYV-gQVVpR5P",
        "colab_type": "text"
      },
      "source": [
        "#### 4.1 Queries examples with JOIN"
      ]
    },
    {
      "cell_type": "code",
      "metadata": {
        "id": "LyD58CoXpR5Q",
        "colab_type": "code",
        "colab": {}
      },
      "source": [
        "Session = sessionmaker(bind=engine)\n",
        "session = Session()"
      ],
      "execution_count": 0,
      "outputs": []
    },
    {
      "cell_type": "code",
      "metadata": {
        "id": "8cOeHA9DpR5S",
        "colab_type": "code",
        "colab": {
          "base_uri": "https://localhost:8080/",
          "height": 51
        },
        "outputId": "aeb14298-9410-4e9a-90db-9a8454f67b8d"
      },
      "source": [
        "session.query(Film).filter(Film.year > 1990).all()"
      ],
      "execution_count": 58,
      "outputs": [
        {
          "output_type": "execute_result",
          "data": {
            "text/plain": [
              "[<Film(title='Seven', year='1995')>,\n",
              " <Film(title='Jurassic Park', year='1993')>]"
            ]
          },
          "metadata": {
            "tags": []
          },
          "execution_count": 58
        }
      ]
    },
    {
      "cell_type": "code",
      "metadata": {
        "id": "gznphc0npR5U",
        "colab_type": "code",
        "colab": {
          "base_uri": "https://localhost:8080/",
          "height": 34
        },
        "outputId": "7bdb6a29-1d41-4610-9b1c-05e516f97c58"
      },
      "source": [
        "session.query(Film).join(Director).filter(Director.name == 'Steven Spielberg').all()"
      ],
      "execution_count": 59,
      "outputs": [
        {
          "output_type": "execute_result",
          "data": {
            "text/plain": [
              "[<Film(title='Jaws', year='1975')>, <Film(title='Jurassic Park', year='1993')>]"
            ]
          },
          "metadata": {
            "tags": []
          },
          "execution_count": 59
        }
      ]
    },
    {
      "cell_type": "markdown",
      "metadata": {
        "id": "qwsf9WIjpR5W",
        "colab_type": "text"
      },
      "source": [
        "You can get more examples and information about SQLAlchemy at:  \n",
        "* https://www.pythonsheets.com/notes/python-sqlalchemy.html  \n",
        "* https://docs.sqlalchemy.org/en/13/ (or choose your version)"
      ]
    },
    {
      "cell_type": "markdown",
      "metadata": {
        "id": "763dp1TnpR5X",
        "colab_type": "text"
      },
      "source": [
        "# EXERCISE !!!"
      ]
    },
    {
      "cell_type": "markdown",
      "metadata": {
        "id": "q5vC-mAUpR5Y",
        "colab_type": "text"
      },
      "source": [
        "We have a .csv file with this information that we want to store in a database. Design the schema and try to add all information on it. "
      ]
    },
    {
      "cell_type": "code",
      "metadata": {
        "id": "wdAteqIvs_ZZ",
        "colab_type": "code",
        "colab": {
          "base_uri": "https://localhost:8080/",
          "height": 34
        },
        "outputId": "010f6dba-19a9-4748-fdb6-194b83fc3ba8"
      },
      "source": [
        "%%writefile activities.csv\n",
        "DNI,Name,Surname,Activity,Day,Room\n",
        "478906F,Gloria,Garcia,Pilates,Monday,R3\n",
        "678904D,Carlos,Mena,Spinning,Friday,R10\n",
        "234509S,Marta,Vila,Yoga,Tuesday,R5\n",
        "689502A,Miquel,Santos,Pilates,Monday,R3\n"
      ],
      "execution_count": 70,
      "outputs": [
        {
          "output_type": "stream",
          "text": [
            "Writing activities.csv\n"
          ],
          "name": "stdout"
        }
      ]
    },
    {
      "cell_type": "code",
      "metadata": {
        "id": "opb0g-09pR5Z",
        "colab_type": "code",
        "colab": {
          "base_uri": "https://localhost:8080/",
          "height": 173
        },
        "outputId": "c6533960-d4a7-412b-a7f2-cbdd20cd3adc"
      },
      "source": [
        "import pandas as pd\n",
        "\n",
        "data = pd.read_csv('activities.csv')\n",
        "data.head()"
      ],
      "execution_count": 71,
      "outputs": [
        {
          "output_type": "execute_result",
          "data": {
            "text/html": [
              "<div>\n",
              "<style scoped>\n",
              "    .dataframe tbody tr th:only-of-type {\n",
              "        vertical-align: middle;\n",
              "    }\n",
              "\n",
              "    .dataframe tbody tr th {\n",
              "        vertical-align: top;\n",
              "    }\n",
              "\n",
              "    .dataframe thead th {\n",
              "        text-align: right;\n",
              "    }\n",
              "</style>\n",
              "<table border=\"1\" class=\"dataframe\">\n",
              "  <thead>\n",
              "    <tr style=\"text-align: right;\">\n",
              "      <th></th>\n",
              "      <th>DNI</th>\n",
              "      <th>Name</th>\n",
              "      <th>Surname</th>\n",
              "      <th>Activity</th>\n",
              "      <th>Day</th>\n",
              "      <th>Room</th>\n",
              "    </tr>\n",
              "  </thead>\n",
              "  <tbody>\n",
              "    <tr>\n",
              "      <th>0</th>\n",
              "      <td>478906F</td>\n",
              "      <td>Gloria</td>\n",
              "      <td>Garcia</td>\n",
              "      <td>Pilates</td>\n",
              "      <td>Monday</td>\n",
              "      <td>R3</td>\n",
              "    </tr>\n",
              "    <tr>\n",
              "      <th>1</th>\n",
              "      <td>678904D</td>\n",
              "      <td>Carlos</td>\n",
              "      <td>Mena</td>\n",
              "      <td>Spinning</td>\n",
              "      <td>Friday</td>\n",
              "      <td>R10</td>\n",
              "    </tr>\n",
              "    <tr>\n",
              "      <th>2</th>\n",
              "      <td>234509S</td>\n",
              "      <td>Marta</td>\n",
              "      <td>Vila</td>\n",
              "      <td>Yoga</td>\n",
              "      <td>Tuesday</td>\n",
              "      <td>R5</td>\n",
              "    </tr>\n",
              "    <tr>\n",
              "      <th>3</th>\n",
              "      <td>689502A</td>\n",
              "      <td>Miquel</td>\n",
              "      <td>Santos</td>\n",
              "      <td>Pilates</td>\n",
              "      <td>Monday</td>\n",
              "      <td>R3</td>\n",
              "    </tr>\n",
              "  </tbody>\n",
              "</table>\n",
              "</div>"
            ],
            "text/plain": [
              "       DNI    Name Surname  Activity      Day Room\n",
              "0  478906F  Gloria  Garcia   Pilates   Monday   R3\n",
              "1  678904D  Carlos    Mena  Spinning   Friday  R10\n",
              "2  234509S   Marta    Vila      Yoga  Tuesday   R5\n",
              "3  689502A  Miquel  Santos   Pilates   Monday   R3"
            ]
          },
          "metadata": {
            "tags": []
          },
          "execution_count": 71
        }
      ]
    },
    {
      "cell_type": "code",
      "metadata": {
        "id": "8XTB8e9OpR5c",
        "colab_type": "code",
        "colab": {
          "base_uri": "https://localhost:8080/",
          "height": 102
        },
        "outputId": "ed55b10f-da10-422f-f19d-b52880f797ba"
      },
      "source": [
        "file = open('activities.csv','r') \n",
        "lines = file.readlines()\n",
        "lines"
      ],
      "execution_count": 72,
      "outputs": [
        {
          "output_type": "execute_result",
          "data": {
            "text/plain": [
              "['DNI,Name,Surname,Activity,Day,Room\\n',\n",
              " '478906F,Gloria,Garcia,Pilates,Monday,R3\\n',\n",
              " '678904D,Carlos,Mena,Spinning,Friday,R10\\n',\n",
              " '234509S,Marta,Vila,Yoga,Tuesday,R5\\n',\n",
              " '689502A,Miquel,Santos,Pilates,Monday,R3']"
            ]
          },
          "metadata": {
            "tags": []
          },
          "execution_count": 72
        }
      ]
    },
    {
      "cell_type": "code",
      "metadata": {
        "id": "JW7SNAk_pR5g",
        "colab_type": "code",
        "colab": {
          "base_uri": "https://localhost:8080/",
          "height": 85
        },
        "outputId": "ed51e2af-6469-43d3-b510-5e4a70a35ea4"
      },
      "source": [
        "for line in lines[1:]:\n",
        "    dni,name,surname,activity,day,room = line.rstrip().split(',')\n",
        "    print(dni,name,surname,activity,day,room)"
      ],
      "execution_count": 73,
      "outputs": [
        {
          "output_type": "stream",
          "text": [
            "478906F Gloria Garcia Pilates Monday R3\n",
            "678904D Carlos Mena Spinning Friday R10\n",
            "234509S Marta Vila Yoga Tuesday R5\n",
            "689502A Miquel Santos Pilates Monday R3\n"
          ],
          "name": "stdout"
        }
      ]
    },
    {
      "cell_type": "code",
      "metadata": {
        "id": "qCravJCwrAlL",
        "colab_type": "code",
        "colab": {}
      },
      "source": [
        ""
      ],
      "execution_count": 0,
      "outputs": []
    }
  ]
}